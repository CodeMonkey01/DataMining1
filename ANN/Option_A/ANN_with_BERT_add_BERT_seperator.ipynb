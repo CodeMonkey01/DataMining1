{
  "cells": [
    {
      "cell_type": "markdown",
      "metadata": {
        "colab_type": "text",
        "id": "view-in-github"
      },
      "source": [
        "<a href=\"https://colab.research.google.com/github/CodeMonkey01/DataMiningI/blob/main/ANN/Option_A/ANN_with_BERT_add_BERT_seperator.ipynb\" target=\"_parent\"><img src=\"https://colab.research.google.com/assets/colab-badge.svg\" alt=\"Open In Colab\"/></a>"
      ]
    },
    {
      "cell_type": "markdown",
      "metadata": {
        "id": "4oym-u7JY-lc"
      },
      "source": [
        "# ANN with BERT\n",
        "In this notebook I tried to solve the classification model with an ANN based on pretrained BERT layers.\n",
        "\n",
        "This notebook shows the preprocessing and hyperparameter selection process. "
      ]
    },
    {
      "cell_type": "code",
      "execution_count": null,
      "metadata": {},
      "outputs": [],
      "source": [
        "!pip install gensim"
      ]
    },
    {
      "cell_type": "code",
      "execution_count": 1,
      "metadata": {
        "id": "HUKHIT8hSOAH"
      },
      "outputs": [
        {
          "name": "stderr",
          "output_type": "stream",
          "text": [
            "c:\\Users\\ayhamshalaby\\AppData\\Local\\Programs\\Python\\Python310\\lib\\site-packages\\requests\\__init__.py:109: RequestsDependencyWarning: urllib3 (1.26.10) or chardet (5.0.0)/charset_normalizer (2.0.12) doesn't match a supported version!\n",
            "  warnings.warn(\n"
          ]
        }
      ],
      "source": [
        "import tensorflow as tf\n",
        "import tensorflow_hub as hub\n",
        "import tensorflow_text as text\n",
        "import pandas as pd\n",
        "from sklearn.preprocessing import LabelEncoder\n",
        "import tensorflow as tf"
      ]
    },
    {
      "cell_type": "code",
      "execution_count": 2,
      "metadata": {},
      "outputs": [
        {
          "data": {
            "text/html": [
              "<div>\n",
              "<style scoped>\n",
              "    .dataframe tbody tr th:only-of-type {\n",
              "        vertical-align: middle;\n",
              "    }\n",
              "\n",
              "    .dataframe tbody tr th {\n",
              "        vertical-align: top;\n",
              "    }\n",
              "\n",
              "    .dataframe thead th {\n",
              "        text-align: right;\n",
              "    }\n",
              "</style>\n",
              "<table border=\"1\" class=\"dataframe\">\n",
              "  <thead>\n",
              "    <tr style=\"text-align: right;\">\n",
              "      <th></th>\n",
              "      <th>review</th>\n",
              "      <th>sentiment</th>\n",
              "    </tr>\n",
              "  </thead>\n",
              "  <tbody>\n",
              "    <tr>\n",
              "      <th>count</th>\n",
              "      <td>50000</td>\n",
              "      <td>50000</td>\n",
              "    </tr>\n",
              "    <tr>\n",
              "      <th>unique</th>\n",
              "      <td>49582</td>\n",
              "      <td>2</td>\n",
              "    </tr>\n",
              "    <tr>\n",
              "      <th>top</th>\n",
              "      <td>Loved today's show!!! It was a variety and not...</td>\n",
              "      <td>positive</td>\n",
              "    </tr>\n",
              "    <tr>\n",
              "      <th>freq</th>\n",
              "      <td>5</td>\n",
              "      <td>25000</td>\n",
              "    </tr>\n",
              "  </tbody>\n",
              "</table>\n",
              "</div>"
            ],
            "text/plain": [
              "                                                   review sentiment\n",
              "count                                               50000     50000\n",
              "unique                                              49582         2\n",
              "top     Loved today's show!!! It was a variety and not...  positive\n",
              "freq                                                    5     25000"
            ]
          },
          "execution_count": 2,
          "metadata": {},
          "output_type": "execute_result"
        }
      ],
      "source": [
        "df_raw = pd.read_csv('../IMDB Dataset.csv')\n",
        "df_raw.describe()"
      ]
    },
    {
      "cell_type": "code",
      "execution_count": 3,
      "metadata": {},
      "outputs": [],
      "source": [
        "df_raw.drop_duplicates(inplace=True)"
      ]
    },
    {
      "cell_type": "code",
      "execution_count": 4,
      "metadata": {},
      "outputs": [
        {
          "data": {
            "text/html": [
              "<div>\n",
              "<style scoped>\n",
              "    .dataframe tbody tr th:only-of-type {\n",
              "        vertical-align: middle;\n",
              "    }\n",
              "\n",
              "    .dataframe tbody tr th {\n",
              "        vertical-align: top;\n",
              "    }\n",
              "\n",
              "    .dataframe thead th {\n",
              "        text-align: right;\n",
              "    }\n",
              "</style>\n",
              "<table border=\"1\" class=\"dataframe\">\n",
              "  <thead>\n",
              "    <tr style=\"text-align: right;\">\n",
              "      <th></th>\n",
              "      <th>review</th>\n",
              "      <th>sentiment</th>\n",
              "    </tr>\n",
              "  </thead>\n",
              "  <tbody>\n",
              "    <tr>\n",
              "      <th>0</th>\n",
              "      <td>One of the other reviewers has mentioned that ...</td>\n",
              "      <td>positive</td>\n",
              "    </tr>\n",
              "    <tr>\n",
              "      <th>1</th>\n",
              "      <td>A wonderful little production. &lt;br /&gt;&lt;br /&gt;The...</td>\n",
              "      <td>positive</td>\n",
              "    </tr>\n",
              "    <tr>\n",
              "      <th>2</th>\n",
              "      <td>I thought this was a wonderful way to spend ti...</td>\n",
              "      <td>positive</td>\n",
              "    </tr>\n",
              "    <tr>\n",
              "      <th>4</th>\n",
              "      <td>Petter Mattei's \"Love in the Time of Money\" is...</td>\n",
              "      <td>positive</td>\n",
              "    </tr>\n",
              "    <tr>\n",
              "      <th>5</th>\n",
              "      <td>Probably my all-time favorite movie, a story o...</td>\n",
              "      <td>positive</td>\n",
              "    </tr>\n",
              "    <tr>\n",
              "      <th>...</th>\n",
              "      <td>...</td>\n",
              "      <td>...</td>\n",
              "    </tr>\n",
              "    <tr>\n",
              "      <th>49983</th>\n",
              "      <td>I loved it, having been a fan of the original ...</td>\n",
              "      <td>positive</td>\n",
              "    </tr>\n",
              "    <tr>\n",
              "      <th>49985</th>\n",
              "      <td>Imaginary Heroes is clearly the best film of t...</td>\n",
              "      <td>positive</td>\n",
              "    </tr>\n",
              "    <tr>\n",
              "      <th>49989</th>\n",
              "      <td>I got this one a few weeks ago and love it! It...</td>\n",
              "      <td>positive</td>\n",
              "    </tr>\n",
              "    <tr>\n",
              "      <th>49992</th>\n",
              "      <td>John Garfield plays a Marine who is blinded by...</td>\n",
              "      <td>positive</td>\n",
              "    </tr>\n",
              "    <tr>\n",
              "      <th>49995</th>\n",
              "      <td>I thought this movie did a down right good job...</td>\n",
              "      <td>positive</td>\n",
              "    </tr>\n",
              "  </tbody>\n",
              "</table>\n",
              "<p>24884 rows × 2 columns</p>\n",
              "</div>"
            ],
            "text/plain": [
              "                                                  review sentiment\n",
              "0      One of the other reviewers has mentioned that ...  positive\n",
              "1      A wonderful little production. <br /><br />The...  positive\n",
              "2      I thought this was a wonderful way to spend ti...  positive\n",
              "4      Petter Mattei's \"Love in the Time of Money\" is...  positive\n",
              "5      Probably my all-time favorite movie, a story o...  positive\n",
              "...                                                  ...       ...\n",
              "49983  I loved it, having been a fan of the original ...  positive\n",
              "49985  Imaginary Heroes is clearly the best film of t...  positive\n",
              "49989  I got this one a few weeks ago and love it! It...  positive\n",
              "49992  John Garfield plays a Marine who is blinded by...  positive\n",
              "49995  I thought this movie did a down right good job...  positive\n",
              "\n",
              "[24884 rows x 2 columns]"
            ]
          },
          "execution_count": 4,
          "metadata": {},
          "output_type": "execute_result"
        }
      ],
      "source": [
        "df_raw[df_raw[\"sentiment\"]== \"positive\"]"
      ]
    },
    {
      "cell_type": "code",
      "execution_count": 5,
      "metadata": {},
      "outputs": [
        {
          "data": {
            "text/html": [
              "<div>\n",
              "<style scoped>\n",
              "    .dataframe tbody tr th:only-of-type {\n",
              "        vertical-align: middle;\n",
              "    }\n",
              "\n",
              "    .dataframe tbody tr th {\n",
              "        vertical-align: top;\n",
              "    }\n",
              "\n",
              "    .dataframe thead th {\n",
              "        text-align: right;\n",
              "    }\n",
              "</style>\n",
              "<table border=\"1\" class=\"dataframe\">\n",
              "  <thead>\n",
              "    <tr style=\"text-align: right;\">\n",
              "      <th></th>\n",
              "      <th>review</th>\n",
              "      <th>sentiment</th>\n",
              "    </tr>\n",
              "  </thead>\n",
              "  <tbody>\n",
              "    <tr>\n",
              "      <th>3</th>\n",
              "      <td>Basically there's a family where a little boy ...</td>\n",
              "      <td>negative</td>\n",
              "    </tr>\n",
              "    <tr>\n",
              "      <th>7</th>\n",
              "      <td>This show was an amazing, fresh &amp; innovative i...</td>\n",
              "      <td>negative</td>\n",
              "    </tr>\n",
              "    <tr>\n",
              "      <th>8</th>\n",
              "      <td>Encouraged by the positive comments about this...</td>\n",
              "      <td>negative</td>\n",
              "    </tr>\n",
              "    <tr>\n",
              "      <th>10</th>\n",
              "      <td>Phil the Alien is one of those quirky films wh...</td>\n",
              "      <td>negative</td>\n",
              "    </tr>\n",
              "    <tr>\n",
              "      <th>11</th>\n",
              "      <td>I saw this movie when I was about 12 when it c...</td>\n",
              "      <td>negative</td>\n",
              "    </tr>\n",
              "    <tr>\n",
              "      <th>...</th>\n",
              "      <td>...</td>\n",
              "      <td>...</td>\n",
              "    </tr>\n",
              "    <tr>\n",
              "      <th>49994</th>\n",
              "      <td>This is your typical junk comedy.&lt;br /&gt;&lt;br /&gt;T...</td>\n",
              "      <td>negative</td>\n",
              "    </tr>\n",
              "    <tr>\n",
              "      <th>49996</th>\n",
              "      <td>Bad plot, bad dialogue, bad acting, idiotic di...</td>\n",
              "      <td>negative</td>\n",
              "    </tr>\n",
              "    <tr>\n",
              "      <th>49997</th>\n",
              "      <td>I am a Catholic taught in parochial elementary...</td>\n",
              "      <td>negative</td>\n",
              "    </tr>\n",
              "    <tr>\n",
              "      <th>49998</th>\n",
              "      <td>I'm going to have to disagree with the previou...</td>\n",
              "      <td>negative</td>\n",
              "    </tr>\n",
              "    <tr>\n",
              "      <th>49999</th>\n",
              "      <td>No one expects the Star Trek movies to be high...</td>\n",
              "      <td>negative</td>\n",
              "    </tr>\n",
              "  </tbody>\n",
              "</table>\n",
              "<p>24698 rows × 2 columns</p>\n",
              "</div>"
            ],
            "text/plain": [
              "                                                  review sentiment\n",
              "3      Basically there's a family where a little boy ...  negative\n",
              "7      This show was an amazing, fresh & innovative i...  negative\n",
              "8      Encouraged by the positive comments about this...  negative\n",
              "10     Phil the Alien is one of those quirky films wh...  negative\n",
              "11     I saw this movie when I was about 12 when it c...  negative\n",
              "...                                                  ...       ...\n",
              "49994  This is your typical junk comedy.<br /><br />T...  negative\n",
              "49996  Bad plot, bad dialogue, bad acting, idiotic di...  negative\n",
              "49997  I am a Catholic taught in parochial elementary...  negative\n",
              "49998  I'm going to have to disagree with the previou...  negative\n",
              "49999  No one expects the Star Trek movies to be high...  negative\n",
              "\n",
              "[24698 rows x 2 columns]"
            ]
          },
          "execution_count": 5,
          "metadata": {},
          "output_type": "execute_result"
        }
      ],
      "source": [
        "df_raw[df_raw[\"sentiment\"]== \"negative\"]"
      ]
    },
    {
      "cell_type": "markdown",
      "metadata": {},
      "source": [
        "# Check for imbalance\n",
        "We balance the dataset by deleting 186 positive sentiment reviews so both the negative and positive sentiments are equal."
      ]
    },
    {
      "cell_type": "code",
      "execution_count": 6,
      "metadata": {},
      "outputs": [
        {
          "name": "stdout",
          "output_type": "stream",
          "text": [
            "positive    24698\n",
            "negative    24698\n",
            "Name: sentiment, dtype: int64\n"
          ]
        }
      ],
      "source": [
        "df_raw_pos = df_raw[df_raw[\"sentiment\"]== \"positive\"]\n",
        "df_raw_neg = df_raw[df_raw[\"sentiment\"]== \"negative\"]\n",
        "#drop the difference between the positive and negative set.\n",
        "df_raw_pos = df_raw_pos.iloc[186: , : ]\n",
        "df_raw = pd.concat([df_raw_pos,df_raw_neg], ignore_index=True)\n",
        "df_raw.sample(frac=1).reset_index(drop=True)\n",
        "#Check for balance now\n",
        "print(df_raw[\"sentiment\"].value_counts())"
      ]
    },
    {
      "cell_type": "markdown",
      "metadata": {},
      "source": [
        "# clean the reviews from HTML Tags"
      ]
    },
    {
      "cell_type": "code",
      "execution_count": 39,
      "metadata": {},
      "outputs": [
        {
          "data": {
            "text/plain": [
              "review       > Contrary to most reviews I've read, I didn't feel this followed any of the other rock movies (\"Spinal Tap\", etc.) The story was more unique, although I feel most people wanted to see the \"sex, drugs & rock and roll\" vices that the band kept alluding to.<br /><br />> As an American, I knew a few of the actors - Spall, Connelly & Rea. Surprised to find out \"Brian\"/Bruce Robinson was in Zifferedi's (<sp?) classic \"Romeo & Juliet\". Guess I'll have to rent that next.<br /><br />> \"THE FLAME STILL BURNS\" - My wife, who hails from Mexico, didn't follow the English/British language too well, missed some of the jokes (which I dutifully explained) but she cried her eyes out at the concert scene. She loves the song so much now.<br /><br />> Funny that Amazon.com has the soundtrack for $30+usd when I bought the DVD in the bargain bin at Wal-Mart for $5.50usd. Price non-withstanding, I first saw this on late night cable and have been dying to find it ever since.\n",
              "sentiment                                                                                                                                                                                                                                                                                                                                                                                                                                                                                                                                                                                                                                                                                                                                                                                                                                                                                                                                                                                                 positive\n",
              "Name: 16569, dtype: object"
            ]
          },
          "execution_count": 39,
          "metadata": {},
          "output_type": "execute_result"
        }
      ],
      "source": [
        "df_raw.iloc[16569]\n",
        "df_raw.iloc[10808]\n",
        "df_raw.iloc[6610]\n",
        "df_raw.iloc[20822]"
      ]
    },
    {
      "cell_type": "code",
      "execution_count": 7,
      "metadata": {},
      "outputs": [
        {
          "data": {
            "text/html": [
              "<div>\n",
              "<style scoped>\n",
              "    .dataframe tbody tr th:only-of-type {\n",
              "        vertical-align: middle;\n",
              "    }\n",
              "\n",
              "    .dataframe tbody tr th {\n",
              "        vertical-align: top;\n",
              "    }\n",
              "\n",
              "    .dataframe thead th {\n",
              "        text-align: right;\n",
              "    }\n",
              "</style>\n",
              "<table border=\"1\" class=\"dataframe\">\n",
              "  <thead>\n",
              "    <tr style=\"text-align: right;\">\n",
              "      <th></th>\n",
              "      <th>review</th>\n",
              "      <th>sentiment</th>\n",
              "    </tr>\n",
              "  </thead>\n",
              "  <tbody>\n",
              "    <tr>\n",
              "      <th>0</th>\n",
              "      <td>Goldeneye will always go down as one of thee m...</td>\n",
              "      <td>positive</td>\n",
              "    </tr>\n",
              "    <tr>\n",
              "      <th>2</th>\n",
              "      <td>\"Hey Babu Riba\" is a film about a young woman,...</td>\n",
              "      <td>positive</td>\n",
              "    </tr>\n",
              "    <tr>\n",
              "      <th>4</th>\n",
              "      <td>What can you say about the film White Fire. Am...</td>\n",
              "      <td>positive</td>\n",
              "    </tr>\n",
              "    <tr>\n",
              "      <th>5</th>\n",
              "      <td>If you are interested in learning more about t...</td>\n",
              "      <td>positive</td>\n",
              "    </tr>\n",
              "    <tr>\n",
              "      <th>6</th>\n",
              "      <td>Gamers: DR is not a fancy made movie, it's mor...</td>\n",
              "      <td>positive</td>\n",
              "    </tr>\n",
              "    <tr>\n",
              "      <th>...</th>\n",
              "      <td>...</td>\n",
              "      <td>...</td>\n",
              "    </tr>\n",
              "    <tr>\n",
              "      <th>49390</th>\n",
              "      <td>Robert Colomb has two full-time jobs. He's kno...</td>\n",
              "      <td>negative</td>\n",
              "    </tr>\n",
              "    <tr>\n",
              "      <th>49391</th>\n",
              "      <td>This is your typical junk comedy.&lt;br /&gt;&lt;br /&gt;T...</td>\n",
              "      <td>negative</td>\n",
              "    </tr>\n",
              "    <tr>\n",
              "      <th>49392</th>\n",
              "      <td>Bad plot, bad dialogue, bad acting, idiotic di...</td>\n",
              "      <td>negative</td>\n",
              "    </tr>\n",
              "    <tr>\n",
              "      <th>49393</th>\n",
              "      <td>I am a Catholic taught in parochial elementary...</td>\n",
              "      <td>negative</td>\n",
              "    </tr>\n",
              "    <tr>\n",
              "      <th>49395</th>\n",
              "      <td>No one expects the Star Trek movies to be high...</td>\n",
              "      <td>negative</td>\n",
              "    </tr>\n",
              "  </tbody>\n",
              "</table>\n",
              "<p>28863 rows × 2 columns</p>\n",
              "</div>"
            ],
            "text/plain": [
              "                                                  review sentiment\n",
              "0      Goldeneye will always go down as one of thee m...  positive\n",
              "2      \"Hey Babu Riba\" is a film about a young woman,...  positive\n",
              "4      What can you say about the film White Fire. Am...  positive\n",
              "5      If you are interested in learning more about t...  positive\n",
              "6      Gamers: DR is not a fancy made movie, it's mor...  positive\n",
              "...                                                  ...       ...\n",
              "49390  Robert Colomb has two full-time jobs. He's kno...  negative\n",
              "49391  This is your typical junk comedy.<br /><br />T...  negative\n",
              "49392  Bad plot, bad dialogue, bad acting, idiotic di...  negative\n",
              "49393  I am a Catholic taught in parochial elementary...  negative\n",
              "49395  No one expects the Star Trek movies to be high...  negative\n",
              "\n",
              "[28863 rows x 2 columns]"
            ]
          },
          "execution_count": 7,
          "metadata": {},
          "output_type": "execute_result"
        }
      ],
      "source": [
        "#20822, 6610, 10808, 16569\n",
        "#view the reviews with HTML tags in the sentences.\n",
        "#pd.set_option('display.max_colwidth', None)\n",
        "df_raw[df_raw['review'].str.contains(r'<[^<>]*>') == True]"
      ]
    },
    {
      "cell_type": "code",
      "execution_count": 8,
      "metadata": {},
      "outputs": [],
      "source": [
        "#remove HTML Tags\n",
        "df_raw['review'] = df_raw['review'].str.replace(r'<[^<>]*>', '', regex=True)"
      ]
    },
    {
      "cell_type": "code",
      "execution_count": 9,
      "metadata": {
        "id": "ypD9eaqv5CI6"
      },
      "outputs": [
        {
          "name": "stdout",
          "output_type": "stream",
          "text": [
            "negative    10028\n",
            "positive     9972\n",
            "Name: sentiment, dtype: int64\n"
          ]
        }
      ],
      "source": [
        "# todo --> take (random) sample to speed up training\n",
        "df_sampled = df_raw.sample(20_000)\n",
        "df = df_raw\n",
        "print(df_sampled[\"sentiment\"].value_counts())"
      ]
    },
    {
      "cell_type": "code",
      "execution_count": 10,
      "metadata": {},
      "outputs": [
        {
          "name": "stdout",
          "output_type": "stream",
          "text": [
            "positive    24698\n",
            "negative    24698\n",
            "Name: sentiment, dtype: int64\n"
          ]
        }
      ],
      "source": [
        "print(df_raw[\"sentiment\"].value_counts())"
      ]
    },
    {
      "cell_type": "markdown",
      "metadata": {
        "id": "b4KqkTrKTi5u"
      },
      "source": [
        "# Preprocessing\n",
        "\n",
        "As wrote in the paper, we tried out different preprocessing approaches for BERT. \n",
        "\n",
        "1.   Stop word removal\n",
        "2.   Stemming\n",
        "3.   Seperator / Special tokens\n",
        "\n",
        "We tried these preprocessing independently and together. After testing each method (or combined with others) we found out that option 3 (\"Seperator / Special tokens) is working the best for BERT and this binary classification problem. The code for the other preprocessing methods is listed below.\n"
      ]
    },
    {
      "cell_type": "code",
      "execution_count": 14,
      "metadata": {},
      "outputs": [],
      "source": [
        "ex = df_raw.iloc[1:2]"
      ]
    },
    {
      "cell_type": "code",
      "execution_count": 17,
      "metadata": {},
      "outputs": [
        {
          "data": {
            "text/html": [
              "<div>\n",
              "<style scoped>\n",
              "    .dataframe tbody tr th:only-of-type {\n",
              "        vertical-align: middle;\n",
              "    }\n",
              "\n",
              "    .dataframe tbody tr th {\n",
              "        vertical-align: top;\n",
              "    }\n",
              "\n",
              "    .dataframe thead th {\n",
              "        text-align: right;\n",
              "    }\n",
              "</style>\n",
              "<table border=\"1\" class=\"dataframe\">\n",
              "  <thead>\n",
              "    <tr style=\"text-align: right;\">\n",
              "      <th></th>\n",
              "      <th>review</th>\n",
              "      <th>sentiment</th>\n",
              "    </tr>\n",
              "  </thead>\n",
              "  <tbody>\n",
              "    <tr>\n",
              "      <th>1</th>\n",
              "      <td>Helena Bonham Carter is the center of this mov...</td>\n",
              "      <td>1</td>\n",
              "    </tr>\n",
              "  </tbody>\n",
              "</table>\n",
              "</div>"
            ],
            "text/plain": [
              "                                              review  sentiment\n",
              "1  Helena Bonham Carter is the center of this mov...          1"
            ]
          },
          "execution_count": 17,
          "metadata": {},
          "output_type": "execute_result"
        }
      ],
      "source": [
        "ex"
      ]
    },
    {
      "cell_type": "code",
      "execution_count": 16,
      "metadata": {},
      "outputs": [
        {
          "name": "stderr",
          "output_type": "stream",
          "text": [
            "C:\\Users\\ayhamshalaby\\AppData\\Local\\Temp\\ipykernel_6100\\3350047386.py:1: SettingWithCopyWarning: \n",
            "A value is trying to be set on a copy of a slice from a DataFrame.\n",
            "Try using .loc[row_indexer,col_indexer] = value instead\n",
            "\n",
            "See the caveats in the documentation: https://pandas.pydata.org/pandas-docs/stable/user_guide/indexing.html#returning-a-view-versus-a-copy\n",
            "  ex[\"sentiment\"] = ex[\"sentiment\"].apply(lambda x: 1 if x == \"positive\" else 0)\n"
          ]
        }
      ],
      "source": [
        "ex[\"sentiment\"] = ex[\"sentiment\"].apply(lambda x: 1 if x == \"positive\" else 0)"
      ]
    },
    {
      "cell_type": "code",
      "execution_count": 18,
      "metadata": {
        "id": "c9JX8UBKedyr"
      },
      "outputs": [
        {
          "data": {
            "text/plain": [
              "0        1\n",
              "1        1\n",
              "2        1\n",
              "3        1\n",
              "4        1\n",
              "        ..\n",
              "49391    0\n",
              "49392    0\n",
              "49393    0\n",
              "49394    0\n",
              "49395    0\n",
              "Name: sentiment, Length: 49396, dtype: int64"
            ]
          },
          "execution_count": 18,
          "metadata": {},
          "output_type": "execute_result"
        }
      ],
      "source": [
        "# Transform class from Boolean to integer value\n",
        "df_raw['sentiment'].apply(lambda x: 1 if x == \"positive\" else 0)\n",
        "df_sampled['sentiment'].apply(lambda x: 1 if x == \"positive\" else 0)\n",
        "df['sentiment'].apply(lambda x: 1 if x==\"positive\" else 0)"
      ]
    },
    {
      "cell_type": "markdown",
      "metadata": {
        "id": "HbKZFVcHeWZN"
      },
      "source": [
        "# Option 1 \n",
        "Stop word removal"
      ]
    },
    {
      "cell_type": "code",
      "execution_count": 19,
      "metadata": {
        "id": "XeBZ9JyReZmK"
      },
      "outputs": [],
      "source": [
        "# Remove stop words\n",
        "from gensim.parsing.preprocessing import remove_stopwords\n",
        "\n",
        "df['stop_word']=df['review'].apply(lambda x: remove_stopwords(x))"
      ]
    },
    {
      "cell_type": "markdown",
      "metadata": {
        "id": "--UXMc9zemJ5"
      },
      "source": [
        "# Option 2\n",
        "Stemming"
      ]
    },
    {
      "cell_type": "code",
      "execution_count": 20,
      "metadata": {
        "id": "FMvnVEHcen2E"
      },
      "outputs": [
        {
          "name": "stderr",
          "output_type": "stream",
          "text": [
            "[nltk_data] Downloading package punkt to\n",
            "[nltk_data]     D:\\Users\\BKU\\ayhamshalaby\\AppData(Roaming)\\nltk_data..\n",
            "[nltk_data]     .\n",
            "[nltk_data]   Package punkt is already up-to-date!\n",
            "[nltk_data] Downloading package stopwords to\n",
            "[nltk_data]     D:\\Users\\BKU\\ayhamshalaby\\AppData(Roaming)\\nltk_data..\n",
            "[nltk_data]     .\n",
            "[nltk_data]   Package stopwords is already up-to-date!\n"
          ]
        }
      ],
      "source": [
        "\n",
        "import re\n",
        "import nltk\n",
        "from nltk.stem import PorterStemmer\n",
        "\n",
        "token_pattern = re.compile(r\"(?u)\\b\\w\\w+\\b\")\n",
        "\n",
        "ps = PorterStemmer()\n",
        "\n",
        "nltk.download('punkt')\n",
        "nltk.download('stopwords')\n",
        "\n",
        "df['stemmed']=df['review'].apply(lambda x: ' '.join([ps.stem(y) for y in token_pattern.findall(x)]))"
      ]
    },
    {
      "cell_type": "markdown",
      "metadata": {
        "id": "HXilaCnnd83v"
      },
      "source": [
        "# Option 3 (WE USED THIS)\n",
        "Seperator and Special tokens"
      ]
    },
    {
      "cell_type": "code",
      "execution_count": 21,
      "metadata": {
        "colab": {
          "base_uri": "https://localhost:8080/",
          "height": 113,
          "referenced_widgets": [
            "c7b4a9521aa94ee9b9eef12fd6096da1",
            "740260148dd64d39896b2e9e0b625355",
            "94638bdc749449aab6bc8b5695910f48",
            "c33d539aa06543c1a06bd515eb37aea2",
            "92d06e0207bf4a2da666030932fb22cf",
            "d60e5a0301064d50857dbfc85f691014",
            "0e0b8ed2145342e78bf6050f12c2d0ab",
            "f21ed56c72994aa48c8514a175bf8ed1",
            "6de109c73e744be393b7d2e6ba3cb812",
            "677a8b56b75f4708b4c0c451f0196c90",
            "16249a5f67fb497ea1b5a9600249611b",
            "89004cadb6ba4b659789a0d9067f608f",
            "58fe41ee7b5e4b68b4250c2a37e5d9c0",
            "da96936c40674aa48d0c1b08e0c903da",
            "1f61b4c3deac46afa7260d198de789df",
            "492134850a2c4bd8bcf2f3113b385981",
            "68f2b06a8f354e61a9ca24777ee59896",
            "844db5015fdf4c939ade055e6bc16504",
            "a05d0855cadd480bbc2029631a1a7f1d",
            "83dd64e052ce4a3f85d05bef0e3b0802",
            "cae5e7deafb44a488f772098c869fde3",
            "beeec6138afb47d1b4cbf776c22ef709",
            "89de322b266f445ba47195a7315d8bdb",
            "b099cf64eec842b386ef955c34270735",
            "fbec7d3e9d644686ba733a983544f48f",
            "17dcbdeb96614310abbd76aaa6e50e15",
            "9ffdf04cfbab4b62a5aebe7381aefad9",
            "a962b96b834449e7812b1ebd9b1d67fc",
            "d049288f11ee437b952ca16e8c0a9670",
            "4e12044033be4fceab9f59836157cc8c",
            "20208cdbe6634e4d81fbbf2f11eeec92",
            "61e21028de82483188cd497ef8ef9e0e",
            "ced37242f1f74347a6ff66e9ea165bdc"
          ]
        },
        "id": "4l7ycCbR0Zoe",
        "outputId": "18ada36f-16ad-4188-f6d0-5713768a1c60"
      },
      "outputs": [
        {
          "name": "stderr",
          "output_type": "stream",
          "text": [
            "c:\\Users\\ayhamshalaby\\AppData\\Local\\Programs\\Python\\Python310\\lib\\site-packages\\tqdm\\auto.py:22: TqdmWarning: IProgress not found. Please update jupyter and ipywidgets. See https://ipywidgets.readthedocs.io/en/stable/user_install.html\n",
            "  from .autonotebook import tqdm as notebook_tqdm\n"
          ]
        }
      ],
      "source": [
        "from transformers import BertTokenizer\n",
        "tokenizer = BertTokenizer.from_pretrained(\"bert-base-cased\")\n",
        "\n",
        "MAX_LEN = 128\n",
        "#pad_to_max_length=True,\n",
        "df_sampled['bert_preprocessed']=df_sampled['review'].apply(lambda x: \" \".join(list(tokenizer.convert_ids_to_tokens(tokenizer.encode(x, add_special_tokens=True, max_length=MAX_LEN, truncation=True)))))\n",
        "df['bert_preprocessed']=df['review'].apply(lambda x: \" \".join(list(tokenizer.convert_ids_to_tokens(tokenizer.encode(x, add_special_tokens=True, max_length=MAX_LEN, truncation=True)))))"
      ]
    },
    {
      "cell_type": "markdown",
      "metadata": {
        "id": "bQEvHjR_e07P"
      },
      "source": [
        "# Option 4\n",
        "Stemming + Stop word removal"
      ]
    },
    {
      "cell_type": "code",
      "execution_count": 22,
      "metadata": {
        "id": "kGEJlApve5Hv"
      },
      "outputs": [
        {
          "name": "stderr",
          "output_type": "stream",
          "text": [
            "[nltk_data] Downloading package punkt to\n",
            "[nltk_data]     D:\\Users\\BKU\\ayhamshalaby\\AppData(Roaming)\\nltk_data..\n",
            "[nltk_data]     .\n",
            "[nltk_data]   Package punkt is already up-to-date!\n",
            "[nltk_data] Downloading package stopwords to\n",
            "[nltk_data]     D:\\Users\\BKU\\ayhamshalaby\\AppData(Roaming)\\nltk_data..\n",
            "[nltk_data]     .\n",
            "[nltk_data]   Package stopwords is already up-to-date!\n"
          ]
        }
      ],
      "source": [
        "# Stemming\n",
        "import nltk\n",
        "from nltk.stem import PorterStemmer\n",
        "from nltk.corpus import stopwords\n",
        "import re\n",
        "\n",
        "token_pattern = re.compile(r\"(?u)\\b\\w\\w+\\b\")\n",
        "\n",
        "ps = PorterStemmer()\n",
        "\n",
        "nltk.download('punkt')\n",
        "nltk.download('stopwords')\n",
        "\n",
        "my_stopwords = set(stopwords.words('english'))\n",
        "\n",
        "df['stemmed_stop_removed']=df['review'].apply(lambda x: ' '.join([ps.stem(y) for y in token_pattern.findall(x) if y not in my_stopwords]))"
      ]
    },
    {
      "cell_type": "markdown",
      "metadata": {
        "id": "Noz7DzbKe8dy"
      },
      "source": [
        "# Info\n",
        "Because the preprocessing part was a long lasting process the code for the different methods (stop word removal, stemming) were just added to show how we actually did it. The results are NOT used, because in our interative process we found out that seperator and special tokens (Option 3) works by far the best. "
      ]
    },
    {
      "cell_type": "code",
      "execution_count": 23,
      "metadata": {
        "colab": {
          "base_uri": "https://localhost:8080/",
          "height": 206
        },
        "id": "ghGSvlxC3vme",
        "outputId": "1f38a893-f505-4235-ed8f-4a3e82afa8b4"
      },
      "outputs": [
        {
          "data": {
            "text/html": [
              "<div>\n",
              "<style scoped>\n",
              "    .dataframe tbody tr th:only-of-type {\n",
              "        vertical-align: middle;\n",
              "    }\n",
              "\n",
              "    .dataframe tbody tr th {\n",
              "        vertical-align: top;\n",
              "    }\n",
              "\n",
              "    .dataframe thead th {\n",
              "        text-align: right;\n",
              "    }\n",
              "</style>\n",
              "<table border=\"1\" class=\"dataframe\">\n",
              "  <thead>\n",
              "    <tr style=\"text-align: right;\">\n",
              "      <th></th>\n",
              "      <th>review</th>\n",
              "      <th>sentiment</th>\n",
              "      <th>stop_word</th>\n",
              "      <th>stemmed</th>\n",
              "      <th>bert_preprocessed</th>\n",
              "      <th>stemmed_stop_removed</th>\n",
              "    </tr>\n",
              "  </thead>\n",
              "  <tbody>\n",
              "  </tbody>\n",
              "</table>\n",
              "</div>"
            ],
            "text/plain": [
              "Empty DataFrame\n",
              "Columns: [review, sentiment, stop_word, stemmed, bert_preprocessed, stemmed_stop_removed]\n",
              "Index: []"
            ]
          },
          "execution_count": 23,
          "metadata": {},
          "output_type": "execute_result"
        }
      ],
      "source": [
        "df[df['sentiment'] == 0]"
      ]
    },
    {
      "cell_type": "code",
      "execution_count": 24,
      "metadata": {},
      "outputs": [
        {
          "data": {
            "text/html": [
              "<div>\n",
              "<style scoped>\n",
              "    .dataframe tbody tr th:only-of-type {\n",
              "        vertical-align: middle;\n",
              "    }\n",
              "\n",
              "    .dataframe tbody tr th {\n",
              "        vertical-align: top;\n",
              "    }\n",
              "\n",
              "    .dataframe thead th {\n",
              "        text-align: right;\n",
              "    }\n",
              "</style>\n",
              "<table border=\"1\" class=\"dataframe\">\n",
              "  <thead>\n",
              "    <tr style=\"text-align: right;\">\n",
              "      <th></th>\n",
              "      <th>review</th>\n",
              "      <th>sentiment</th>\n",
              "      <th>stop_word</th>\n",
              "      <th>stemmed</th>\n",
              "      <th>bert_preprocessed</th>\n",
              "      <th>stemmed_stop_removed</th>\n",
              "    </tr>\n",
              "  </thead>\n",
              "  <tbody>\n",
              "  </tbody>\n",
              "</table>\n",
              "</div>"
            ],
            "text/plain": [
              "Empty DataFrame\n",
              "Columns: [review, sentiment, stop_word, stemmed, bert_preprocessed, stemmed_stop_removed]\n",
              "Index: []"
            ]
          },
          "execution_count": 24,
          "metadata": {},
          "output_type": "execute_result"
        }
      ],
      "source": [
        "df[df['sentiment'] == 1]"
      ]
    },
    {
      "cell_type": "code",
      "execution_count": 34,
      "metadata": {},
      "outputs": [
        {
          "data": {
            "text/plain": [
              "0        positive\n",
              "1        positive\n",
              "2        positive\n",
              "3        positive\n",
              "4        positive\n",
              "           ...   \n",
              "49391    negative\n",
              "49392    negative\n",
              "49393    negative\n",
              "49394    negative\n",
              "49395    negative\n",
              "Name: sentiment, Length: 49396, dtype: object"
            ]
          },
          "execution_count": 34,
          "metadata": {},
          "output_type": "execute_result"
        }
      ],
      "source": [
        "df[\"sentiment\"]"
      ]
    },
    {
      "cell_type": "code",
      "execution_count": 25,
      "metadata": {
        "id": "krCAqw4ITnh8"
      },
      "outputs": [],
      "source": [
        "from sklearn.model_selection import train_test_split\n",
        "\n",
        "# Create train test split for training\n",
        "\n",
        "X_train, X_test, y_train, y_test = train_test_split(df['bert_preprocessed'], df['sentiment'], test_size=0.4)\n",
        "X_train_sampled, X_test_sampled, y_train_sampled, y_test_sampled = train_test_split(df_sampled['bert_preprocessed'], df_sampled['sentiment'], test_size=0.4)"
      ]
    },
    {
      "cell_type": "markdown",
      "metadata": {
        "id": "75KTg_ROTveS"
      },
      "source": [
        "# BERT"
      ]
    },
    {
      "cell_type": "code",
      "execution_count": 26,
      "metadata": {
        "id": "USX6Lts4T0ey"
      },
      "outputs": [
        {
          "name": "stdout",
          "output_type": "stream",
          "text": [
            "WARNING:tensorflow:Please fix your imports. Module tensorflow.python.training.tracking.data_structures has been moved to tensorflow.python.trackable.data_structures. The old module will be deleted in version 2.11.\n"
          ]
        }
      ],
      "source": [
        "bert_preprocess = hub.KerasLayer(\"https://tfhub.dev/tensorflow/bert_en_cased_preprocess/3\")\n",
        "bert_encoder = hub.KerasLayer(\"https://tfhub.dev/tensorflow/bert_en_cased_L-12_H-768_A-12/4\")"
      ]
    },
    {
      "cell_type": "code",
      "execution_count": 27,
      "metadata": {
        "id": "wlFXYUGkT3xW"
      },
      "outputs": [],
      "source": [
        "def get_sentence_embeding(sentences):\n",
        "    preprocessed_text = bert_preprocess(sentences)\n",
        "    return bert_encoder(preprocessed_text)['pooled_output']"
      ]
    },
    {
      "cell_type": "markdown",
      "metadata": {
        "id": "-Nt0AWJEUGJg"
      },
      "source": [
        "## Test embedding\n",
        "Test word embedding from pretrained BERT model with a real sentence from dataset."
      ]
    },
    {
      "cell_type": "code",
      "execution_count": 28,
      "metadata": {
        "colab": {
          "base_uri": "https://localhost:8080/"
        },
        "id": "1osx4LSXUECE",
        "outputId": "b2985a09-2c41-4657-df14-7cca4ccde5a2"
      },
      "outputs": [
        {
          "name": "stdout",
          "output_type": "stream",
          "text": [
            "Test sentence:\n",
            "[CLS] Helena Bon ##ham Carter is the center of this movie . She plays her role almost im ##mobile in a wheelchair but still brings across her traditional intensity . Kenneth B ##rana ##gh was to ##ler ##able . The movie itself was good not exceptional . If you are a Helena Bon ##ham Carter fan it is worth seeing . [SEP]\n",
            "Test sentence (word embedding):\n",
            "tf.Tensor(\n",
            "[[-6.56708479e-01  3.95552158e-01  9.99649048e-01 -9.87729251e-01\n",
            "   9.13122892e-01  8.97750497e-01  9.69403923e-01 -9.86159980e-01\n",
            "  -9.43355262e-01 -4.80239183e-01  9.62758183e-01  9.96482909e-01\n",
            "  -9.97055173e-01 -9.99594569e-01  6.12984776e-01 -9.47933733e-01\n",
            "   9.76224363e-01 -4.58532244e-01 -9.99901116e-01 -4.75078374e-01\n",
            "  -7.04436302e-01 -9.99722838e-01  1.15946457e-01  9.64269102e-01\n",
            "   9.44839001e-01  7.78565696e-03  9.79944289e-01  9.99921918e-01\n",
            "   6.98228955e-01  2.65173972e-01  2.78167516e-01 -9.79680657e-01\n",
            "   5.89254618e-01 -9.98143733e-01  2.72924572e-01  3.86826217e-01\n",
            "   4.77616817e-01 -1.47951454e-01  5.69515467e-01 -9.07787681e-01\n",
            "  -4.58217144e-01 -5.39929032e-01  4.60748583e-01 -4.88158405e-01\n",
            "   8.65495861e-01  2.02539265e-01  1.69618070e-01 -1.31607074e-02\n",
            "  -7.66243637e-02  9.99622047e-01 -8.99332702e-01  9.93062556e-01\n",
            "  -9.89089012e-01  9.81975853e-01  9.91528094e-01  2.73811072e-01\n",
            "   9.91662562e-01  1.26319334e-01 -9.96580601e-01 -9.11631137e-02\n",
            "   9.45911407e-01  2.66427577e-01  8.62355411e-01  2.29451954e-02\n",
            "  -1.42959878e-01 -4.53931302e-01 -8.72907996e-01  2.54692167e-01\n",
            "  -4.31854397e-01  3.09624225e-01  1.02417871e-01  3.08971941e-01\n",
            "   9.60829973e-01 -7.96769559e-01 -6.93728402e-02 -8.20336342e-01\n",
            "   2.34659895e-01 -9.99785781e-01  8.82523656e-01  9.99907434e-01\n",
            "   6.76076591e-01 -9.99442637e-01  9.89684999e-01 -2.01494113e-01\n",
            "  -5.58923125e-01  3.31631571e-01 -9.97884214e-01 -9.98673260e-01\n",
            "   2.54842862e-02 -7.68973604e-02  9.26597595e-01 -9.76830900e-01\n",
            "   5.33593118e-01 -7.73787498e-01  9.99920011e-01 -9.03026998e-01\n",
            "  -1.92884535e-01  2.39674225e-01  9.22368765e-01 -7.65710294e-01\n",
            "  -4.60484535e-01  8.94859850e-01  9.97704804e-01 -9.90221500e-01\n",
            "   9.97134089e-01  4.66880590e-01 -9.06265438e-01 -8.06682646e-01\n",
            "   5.50441444e-01  8.98286421e-03  9.70866501e-01 -9.71260250e-01\n",
            "  -7.97778428e-01  5.90058416e-02  9.10350800e-01 -8.41690302e-01\n",
            "   9.82940912e-01  2.13600636e-01 -1.71049386e-01  9.99940872e-01\n",
            "  -1.30786449e-01  9.17964399e-01  9.96421754e-01  5.42497993e-01\n",
            "  -6.75501883e-01 -1.08948305e-01 -3.40763211e-01  8.57454360e-01\n",
            "  -4.70308512e-01  2.31983855e-01  7.44995296e-01 -9.81275320e-01\n",
            "  -9.93587732e-01  9.98903275e-01 -1.84541941e-01  9.99918163e-01\n",
            "  -9.98509586e-01  9.86220598e-01 -9.99862492e-01 -8.63524437e-01\n",
            "  -6.92334771e-01 -1.39090747e-01 -9.80774879e-01 -1.59156173e-02\n",
            "   9.80551302e-01  2.19291877e-02 -8.57830584e-01 -7.52892673e-01\n",
            "   6.41088903e-01 -7.85809219e-01  5.85569739e-01  6.25062048e-01\n",
            "  -8.84118199e-01  9.84538674e-01  9.94299829e-01  9.11291361e-01\n",
            "   9.64156628e-01  2.02570915e-01 -9.22343373e-01  8.02629530e-01\n",
            "   9.82738316e-01 -9.98784781e-01  8.31508696e-01 -9.88121271e-01\n",
            "   9.98152196e-01  9.31292474e-01  6.81956947e-01 -9.93569255e-01\n",
            "   9.99791741e-01 -4.07638788e-01  1.28928293e-02  1.80928204e-02\n",
            "  -4.01660502e-01 -9.97673512e-01  3.97058755e-01  3.77022475e-01\n",
            "   1.99998558e-01  9.99029875e-01 -9.86084580e-01  9.99055088e-01\n",
            "   9.12258267e-01  1.38837248e-01  6.70392334e-01  9.97317016e-01\n",
            "  -9.92996871e-01 -9.57338989e-01 -9.75031495e-01  3.87799501e-01\n",
            "   6.55976355e-01  6.34266555e-01  4.81034607e-01  9.32749391e-01\n",
            "   9.96618211e-01  1.57084063e-01 -9.96549726e-01 -3.34338307e-01\n",
            "   9.62615609e-01 -2.54772246e-01  9.99921739e-01 -3.45258415e-01\n",
            "  -9.99616623e-01 -4.51726675e-01  8.81850600e-01  9.69447255e-01\n",
            "  -2.84237295e-01  9.70456064e-01 -6.24465585e-01 -2.43263453e-01\n",
            "   9.72442329e-01 -9.88166451e-01  9.95810807e-01  1.17876366e-01\n",
            "   5.72614908e-01  6.91121578e-01  9.80235517e-01 -7.51188517e-01\n",
            "  -7.53054991e-02  2.47089535e-01 -6.47394776e-01  9.99740183e-01\n",
            "  -9.99061584e-01 -1.40854284e-01  2.80247480e-01 -9.92313683e-01\n",
            "  -9.96664643e-01  9.53739345e-01  1.16857655e-01 -5.96052945e-01\n",
            "  -2.06074104e-01  2.66980201e-01  1.82491019e-01  8.19254875e-01\n",
            "   9.80587363e-01 -4.95549440e-01 -2.98908800e-01 -9.99636233e-01\n",
            "  -9.94054794e-01 -3.42637211e-01 -9.46301281e-01  3.16309370e-02\n",
            "   6.01673067e-01 -1.76602855e-01 -8.00616562e-01 -9.97182786e-01\n",
            "   9.10311460e-01  6.45189703e-01 -9.07795429e-01 -2.19917700e-01\n",
            "  -3.99449110e-01 -9.97398376e-01  1.63959727e-01 -7.97199488e-01\n",
            "  -9.97947395e-01  9.99146819e-01 -5.64687371e-01  9.92873788e-01\n",
            "   9.33896840e-01 -9.89615083e-01  7.86518872e-01 -9.97427702e-01\n",
            "  -1.91443667e-01 -9.89965022e-01  1.94096297e-01  3.27553391e-01\n",
            "  -4.20121491e-01  3.13500762e-02  9.88859534e-01 -9.19546127e-01\n",
            "  -6.64280415e-01  6.92116797e-01 -9.99720812e-01  8.80077958e-01\n",
            "  -1.27857983e-01  9.98320758e-01  7.26175487e-01  2.82292008e-01\n",
            "   9.68260169e-01  8.94476712e-01 -9.80955422e-01 -9.99657512e-01\n",
            "   9.14314449e-01  9.60156143e-01 -9.90676105e-01 -2.11808756e-01\n",
            "   9.99847054e-01 -9.96213019e-01 -2.98048258e-01 -9.17115748e-01\n",
            "  -9.89469647e-01 -9.99189258e-01  1.91218659e-01 -7.08016872e-01\n",
            "   1.91125900e-01  9.59573984e-01  2.49649778e-01  2.14353472e-01\n",
            "   9.94722843e-01  9.72593725e-01  2.81676024e-01 -9.02193934e-02\n",
            "   1.01152984e-02 -9.67589855e-01 -9.78916824e-01  5.08188665e-01\n",
            "   2.59291470e-01 -9.99926388e-01  9.99654174e-01 -9.90032732e-01\n",
            "   9.90808368e-01  8.88690710e-01 -9.90395010e-01  7.48295486e-01\n",
            "   1.71462998e-01 -9.33884859e-01 -7.76429921e-02  9.99800086e-01\n",
            "   9.58899975e-01 -5.75983338e-02  3.09770126e-02  8.71853292e-01\n",
            "  -3.01634371e-01  5.76214910e-01 -8.15444827e-01 -4.03878659e-01\n",
            "   9.73283499e-02 -9.07122612e-01  9.86614227e-01  6.80823147e-01\n",
            "  -9.81561244e-01  9.91968513e-01  3.49854641e-02  2.69716889e-01\n",
            "  -6.96014404e-01  7.40098894e-01  9.78571057e-01 -7.54314587e-02\n",
            "  -4.81194526e-01 -3.01191032e-01 -7.23547399e-01 -9.73486841e-01\n",
            "  -4.41211574e-02 -9.94007766e-01 -2.65750468e-01  6.61003470e-01\n",
            "   9.75706935e-01 -9.83596683e-01  9.78120625e-01 -1.66642442e-01\n",
            "   8.94677043e-01 -9.96030807e-01  9.99956131e-01 -9.91867423e-01\n",
            "   1.53730467e-01  6.18507802e-01 -7.72853315e-01 -2.98979133e-01\n",
            "   9.84142423e-01  9.77937877e-01  9.61696327e-01 -9.51755822e-01\n",
            "  -8.36514711e-01  6.20792031e-01  9.46329296e-01 -9.60641623e-01\n",
            "  -1.99918542e-03 -9.98721957e-01 -5.26442766e-01  9.92238760e-01\n",
            "   9.93139267e-01  4.27749790e-02 -5.80699205e-01 -9.95426178e-01\n",
            "   9.30774212e-01 -7.17325151e-01 -8.39525044e-01 -9.38740447e-02\n",
            "  -7.38286674e-01  6.27511203e-01  9.95535135e-01 -5.24532318e-01\n",
            "   6.59442961e-01  1.48219243e-01 -9.72741008e-01  8.81423831e-01\n",
            "   7.75297761e-01  9.99675333e-01 -9.70237076e-01  3.51263195e-01\n",
            "   9.72669482e-01 -1.80856958e-01 -7.37160504e-01  3.23741674e-01\n",
            "   9.98125792e-01 -9.35296118e-01 -1.68331936e-01 -9.99247789e-01\n",
            "   2.14985143e-02 -7.06289470e-01  1.39174387e-01 -4.70119834e-01\n",
            "   2.90468130e-02 -7.28859544e-01  9.60348189e-01  4.35797930e-01\n",
            "   6.40412152e-01 -3.44864935e-01  9.05887544e-01 -4.10986274e-01\n",
            "   3.92421447e-02 -2.38530993e-01 -5.98713662e-03  4.73120660e-01\n",
            "   1.92910135e-01  9.59554911e-01 -9.33457136e-01  9.99668181e-01\n",
            "  -4.77108551e-04 -9.99902487e-01 -9.95790184e-01 -6.31161451e-01\n",
            "  -9.99328852e-01  2.68265665e-01 -9.84356642e-01  9.76848185e-01\n",
            "   8.81666064e-01 -9.96426880e-01 -9.98119950e-01 -9.90913808e-01\n",
            "  -9.89361465e-01  8.14923167e-01  3.35955113e-01  1.12165965e-01\n",
            "   2.04517357e-02  6.83268726e-01  4.31988537e-02 -3.95829558e-01\n",
            "   9.40578151e-03 -8.66910756e-01 -3.47771138e-01 -9.95929062e-01\n",
            "   7.64382362e-01 -9.99907374e-01 -6.83552802e-01  9.95980203e-01\n",
            "  -9.93712723e-01 -8.89214456e-01 -8.94846082e-01 -7.61768222e-01\n",
            "  -6.98219776e-01  3.57531935e-01  9.61483777e-01  2.90239751e-02\n",
            "  -5.16748190e-01 -9.99273658e-01  9.78765547e-01 -6.61081970e-01\n",
            "   1.34868950e-01 -8.37059081e-01 -9.51488197e-01  9.99414504e-01\n",
            "   8.52613628e-01 -3.09742875e-02 -8.61115456e-02 -9.98708844e-01\n",
            "   9.68495548e-01 -8.75694335e-01 -8.68820846e-01 -9.69938219e-01\n",
            "   7.18188807e-02 -7.46436059e-01 -9.99617219e-01  6.20101169e-02\n",
            "   9.93668020e-01  9.78501201e-01  9.70732331e-01  3.28228362e-02\n",
            "  -1.94413394e-01 -9.35217202e-01  1.53542623e-01 -9.99875963e-01\n",
            "   8.16844404e-01  8.42802227e-01 -9.62827504e-01 -5.51909328e-01\n",
            "   9.91380155e-01  9.55642343e-01 -9.25187647e-01 -9.66354370e-01\n",
            "   9.11475778e-01  4.00713146e-01  8.86210263e-01 -5.32065511e-01\n",
            "  -2.51516879e-01  2.80299306e-01 -8.84519219e-02 -9.81561363e-01\n",
            "  -8.85737002e-01  9.95504618e-01 -9.98201549e-01  9.67863441e-01\n",
            "   9.91117835e-01  9.97522354e-01 -2.66871303e-01  1.87223986e-01\n",
            "  -9.75985646e-01 -9.76803362e-01 -6.03882313e-01  3.34215134e-01\n",
            "  -9.99867797e-01  9.99779165e-01 -9.99922633e-01  6.31666541e-01\n",
            "  -4.97563481e-01  7.84523487e-01  9.78410542e-01 -4.48750794e-01\n",
            "  -9.99767423e-01 -9.99615788e-01 -3.36865753e-01  3.41307111e-02\n",
            "   9.86251116e-01  2.80120105e-01  8.29080790e-02 -5.16294420e-01\n",
            "  -1.49097562e-01  9.95281458e-01 -3.42499107e-01 -3.80718499e-01\n",
            "  -9.96589482e-01  9.99391019e-01  5.16342461e-01 -9.97246206e-01\n",
            "   9.93450165e-01 -9.99140441e-01  8.12760830e-01  9.37314212e-01\n",
            "   7.80771554e-01  9.17660534e-01 -9.98035669e-01  9.99927938e-01\n",
            "  -9.99663770e-01  9.87998664e-01 -9.99931753e-01 -9.98100519e-01\n",
            "   9.99531686e-01 -9.79979515e-01 -6.77859187e-01 -9.99435186e-01\n",
            "  -9.95366812e-01  5.35688758e-01  6.87502623e-02 -4.62744385e-01\n",
            "   9.79264021e-01 -9.99606550e-01 -9.97468412e-01 -3.95994037e-02\n",
            "  -8.80083978e-01 -7.64344335e-01  9.90640879e-01 -5.72527111e-01\n",
            "   9.85146701e-01 -3.41355860e-01  9.14167881e-01  2.81160414e-01\n",
            "   9.95065868e-01  9.90114212e-01 -6.14005804e-01 -7.88645625e-01\n",
            "  -9.87161338e-01  9.46061909e-01 -3.71186495e-01  2.66894221e-01\n",
            "   9.19599652e-01  5.14067262e-02 -6.92886055e-01  4.14422423e-01\n",
            "  -9.94982719e-01  5.11402845e-01 -2.02391699e-01  9.28544343e-01\n",
            "   8.60225439e-01  7.76229143e-01 -5.53224571e-02 -5.07112384e-01\n",
            "  -1.41713098e-01 -9.83923674e-01  5.05765676e-01 -9.99167502e-01\n",
            "   9.32733059e-01 -9.05339897e-01  4.25109304e-02 -4.39510167e-01\n",
            "   3.04266393e-01 -9.08096611e-01  9.99266207e-01  9.96389806e-01\n",
            "  -9.92082536e-01  1.55383078e-02  9.80495512e-01 -5.96005142e-01\n",
            "   9.51547503e-01 -9.90089655e-01  5.53760584e-03  9.51242149e-01\n",
            "  -5.27798533e-01  9.73329544e-01  3.16981167e-01 -4.15997915e-02\n",
            "   9.65388894e-01 -9.91027534e-01 -8.18397045e-01 -5.80644071e-01\n",
            "   3.69718701e-01 -6.07191846e-02 -9.52530265e-01  1.08441159e-01\n",
            "   9.79315102e-01 -4.96738076e-01 -9.99462426e-01  8.80004406e-01\n",
            "  -9.98816490e-01 -1.13895170e-01  9.67962682e-01  1.12448176e-02\n",
            "   9.99790132e-01 -8.09444129e-01  7.40517303e-02  9.26910415e-02\n",
            "  -9.99455154e-01 -9.97632325e-01  2.58079246e-02 -1.63263306e-01\n",
            "  -9.07731116e-01  9.98376846e-01 -9.78954658e-02  6.34662271e-01\n",
            "  -9.99732137e-01  2.61176854e-01  9.93285298e-01  2.29821712e-01\n",
            "   6.97093964e-01 -8.10182154e-01 -8.28019977e-01 -9.26795065e-01\n",
            "  -4.29343462e-01  4.23434861e-02  7.73400784e-01 -9.65288997e-01\n",
            "  -7.61457503e-01 -8.95740569e-01  9.99895990e-01 -9.96517241e-01\n",
            "  -8.53565335e-01 -9.74343419e-01  4.62838471e-01  7.63090670e-01\n",
            "   4.33707714e-01  1.03600860e-01 -8.56277049e-01  9.26400006e-01\n",
            "  -8.29183757e-01  9.92341995e-01 -9.92104411e-01 -9.92236316e-01\n",
            "   9.99640167e-01 -6.13531247e-02 -9.85527396e-01 -2.03912724e-02\n",
            "  -3.06363851e-01  4.43067223e-01  1.21863015e-01  6.60451949e-01\n",
            "  -7.91972160e-01 -2.20676586e-01 -9.91562247e-01  5.42213976e-01\n",
            "  -7.44891524e-01 -9.81529653e-01 -1.03190757e-01 -1.62766919e-01\n",
            "  -9.89532173e-01  9.89180982e-01  9.52825069e-01  9.99880791e-01\n",
            "  -9.99547839e-01  4.97705787e-01  8.90338421e-02  9.98078406e-01\n",
            "  -4.00487473e-03 -6.09841883e-01  8.56276631e-01  9.99267340e-01\n",
            "  -6.37616098e-01  6.31572425e-01 -1.17264278e-01 -5.88851981e-02\n",
            "   4.01474357e-01 -7.40912676e-01  9.94771063e-01 -8.97519588e-01\n",
            "   5.60923636e-01 -9.78306174e-01 -9.99800086e-01  9.99829113e-01\n",
            "   5.72180422e-03  9.87212420e-01  2.70418078e-01  5.61505675e-01\n",
            "  -4.81640697e-01  9.71712887e-01 -9.77038622e-01 -8.13144684e-01\n",
            "  -9.99942243e-01  3.50554407e-01 -9.92554247e-01 -9.84808207e-01\n",
            "   1.70125253e-02  9.79353845e-01 -9.99144554e-01 -9.84805703e-01\n",
            "  -3.19121063e-01 -9.99939620e-01  8.13478708e-01 -9.80298758e-01\n",
            "  -8.62913668e-01 -9.74569619e-01  9.95612681e-01 -1.90434277e-01\n",
            "  -3.55402321e-01  9.59523201e-01 -9.12804425e-01  9.18851137e-01\n",
            "   8.87567520e-01  1.52368754e-01  2.71744996e-01  9.46988985e-02\n",
            "  -7.13112295e-01 -9.89397645e-01 -8.78113151e-01 -9.29007769e-01\n",
            "   4.86821532e-01 -9.74685371e-01 -4.49004412e-01  9.94738281e-01\n",
            "   9.81999040e-01 -9.98681068e-01 -9.93047893e-01  9.88332868e-01\n",
            "  -2.02358514e-01  9.78751183e-01 -2.42183030e-01 -9.99681890e-01\n",
            "  -9.99826014e-01  9.45395902e-02  8.32482576e-02  9.88417923e-01\n",
            "  -2.99372822e-01  9.80933785e-01  4.41241086e-01 -2.07636252e-01\n",
            "   2.42220581e-01 -5.62792420e-01 -4.40488309e-01 -5.27220547e-01\n",
            "  -1.03123151e-01  9.99910474e-01 -6.80560350e-01  9.80940640e-01]], shape=(1, 768), dtype=float32)\n"
          ]
        }
      ],
      "source": [
        "test_sentence = df[\"bert_preprocessed\"][1]\n",
        "print(\"Test sentence:\")\n",
        "print(test_sentence)\n",
        "print(\"Test sentence (word embedding):\")\n",
        "print(get_sentence_embeding([test_sentence]))"
      ]
    },
    {
      "cell_type": "markdown",
      "metadata": {
        "id": "T06BUvCuUuJ8"
      },
      "source": [
        "# Build model\n",
        "\n",
        "```\n",
        "__________________________________________________________________________________________________\n",
        " Layer (type)                   Output Shape         Param #     Connected to                     \n",
        "==================================================================================================\n",
        " text (InputLayer)              [(None,)]            0           []                               \n",
        "                                                                                                  \n",
        " keras_layer (KerasLayer)       {'input_mask': (Non  0           ['text[0][0]']                   \n",
        "                                e, 128),                                                          \n",
        "                                 'input_type_ids':                                                \n",
        "                                (None, 128),                                                      \n",
        "                                 'input_word_ids':                                                \n",
        "                                (None, 128)}                                                      \n",
        "                                                                                                  \n",
        " keras_layer_1 (KerasLayer)     {'encoder_outputs':  108310273   ['keras_layer[1][0]',            \n",
        "                                 [(None, 128, 768),               'keras_layer[1][1]',            \n",
        "                                 (None, 128, 768),                'keras_layer[1][2]']            \n",
        "                                 (None, 128, 768),                                                \n",
        "                                 (None, 128, 768),                                                \n",
        "                                 (None, 128, 768),                                                \n",
        "                                 (None, 128, 768),                                                \n",
        "                                 (None, 128, 768),                                                \n",
        "                                 (None, 128, 768),                                                \n",
        "                                 (None, 128, 768),                                                \n",
        "                                 (None, 128, 768),                                                \n",
        "                                 (None, 128, 768),                                                \n",
        "                                 (None, 128, 768)],                                               \n",
        "                                 'sequence_output':                                               \n",
        "                                 (None, 128, 768),                                                \n",
        "                                 'pooled_output': (                                               \n",
        "                                None, 768),                                                       \n",
        "                                 'default': (None,                                                \n",
        "                                768)}                                                             \n",
        "                                                                                                  \n",
        " dropout (Dropout)              (None, 768)          0           ['keras_layer_1[1][13]']         \n",
        "                                                                                                  \n",
        " output (Dense)                 (None, 1)            769         ['dropout[0][0]']                \n",
        "                                                                                                  \n",
        "==================================================================================================\n",
        "Total params: 108,311,042\n",
        "Trainable params: 769\n",
        "Non-trainable params: 108,310,273\n",
        "__________________________________________________________________________________________________\n",
        "```"
      ]
    },
    {
      "cell_type": "code",
      "execution_count": 29,
      "metadata": {
        "id": "rMwxDdFPQCiQ"
      },
      "outputs": [],
      "source": [
        "def build_model() -> tf.keras.Model:\n",
        "    # Bert layers\n",
        "    text_input = tf.keras.layers.Input(shape=(), dtype=tf.string, name='text')\n",
        "    preprocessed_text = bert_preprocess(text_input)\n",
        "    outputs = bert_encoder(preprocessed_text)\n",
        "\n",
        "    # Neural network layers\n",
        "    l = tf.keras.layers.Dropout(0.1, name=\"dropout\")(outputs['pooled_output']) # dropout rate of 0.1 works the best\n",
        "    l = tf.keras.layers.Dense(1, activation='sigmoid', name=\"output\")(l) # other activation functions like softmax reduce the accuracy by A LOT\n",
        "\n",
        "    # Use inputs and outputs to construct a final model\n",
        "    model = tf.keras.Model(inputs=[text_input], outputs = [l])\n",
        "\n",
        "    #model.summary()\n",
        "\n",
        "    return model"
      ]
    },
    {
      "cell_type": "code",
      "execution_count": 33,
      "metadata": {},
      "outputs": [
        {
          "data": {
            "text/plain": [
              "11491    positive\n",
              "41438    negative\n",
              "41537    negative\n",
              "44178    negative\n",
              "25539    negative\n",
              "           ...   \n",
              "44121    negative\n",
              "21494    positive\n",
              "47256    negative\n",
              "25019    negative\n",
              "48466    negative\n",
              "Name: sentiment, Length: 12000, dtype: object"
            ]
          },
          "execution_count": 33,
          "metadata": {},
          "output_type": "execute_result"
        }
      ],
      "source": [
        "y_train_sampled"
      ]
    },
    {
      "cell_type": "code",
      "execution_count": 31,
      "metadata": {},
      "outputs": [
        {
          "data": {
            "text/plain": [
              "11491    [CLS] This complicated western was a milestone...\n",
              "41438    [CLS] When George S ##lu ##izer was told he co...\n",
              "41537    [CLS] I love low budget independent films and ...\n",
              "44178    [CLS] The St . Francis ##ville Experiment clai...\n",
              "25539    [CLS] The Blood ##su ##cker Lead ##s the Dance...\n",
              "                               ...                        \n",
              "44121    [CLS] Everyone in this movie tells Ra ##ffy Ca...\n",
              "21494    [CLS] As a fan of the old Doctor Who , and aft...\n",
              "47256    [CLS] This mini series , also based on a book ...\n",
              "25019    [CLS] This review also contains a s ##po ##ile...\n",
              "48466    [CLS] I received this movie as a gift , I knew...\n",
              "Name: bert_preprocessed, Length: 12000, dtype: object"
            ]
          },
          "execution_count": 31,
          "metadata": {},
          "output_type": "execute_result"
        }
      ],
      "source": [
        "X_train_sampled"
      ]
    },
    {
      "cell_type": "code",
      "execution_count": 32,
      "metadata": {
        "colab": {
          "base_uri": "https://localhost:8080/"
        },
        "id": "OXsa_dHHU1_n",
        "outputId": "40383c7c-a825-4177-a50e-42f06e45f178"
      },
      "outputs": [
        {
          "name": "stdout",
          "output_type": "stream",
          "text": [
            "Combinations: 54\n",
            "Try adam learning rate of: 0.001 and e: 1e-06 and batch size: 32\n",
            "Epoch 1/5\n"
          ]
        },
        {
          "ename": "UnimplementedError",
          "evalue": "Graph execution error:\n\nDetected at node 'binary_crossentropy/Cast' defined at (most recent call last):\n    File \"c:\\Users\\ayhamshalaby\\AppData\\Local\\Programs\\Python\\Python310\\lib\\runpy.py\", line 196, in _run_module_as_main\n      return _run_code(code, main_globals, None,\n    File \"c:\\Users\\ayhamshalaby\\AppData\\Local\\Programs\\Python\\Python310\\lib\\runpy.py\", line 86, in _run_code\n      exec(code, run_globals)\n    File \"D:\\Users\\BKU\\ayhamshalaby\\AppData(Roaming)\\Python\\Python310\\site-packages\\ipykernel_launcher.py\", line 17, in <module>\n      app.launch_new_instance()\n    File \"D:\\Users\\BKU\\ayhamshalaby\\AppData(Roaming)\\Python\\Python310\\site-packages\\traitlets\\config\\application.py\", line 976, in launch_instance\n      app.start()\n    File \"D:\\Users\\BKU\\ayhamshalaby\\AppData(Roaming)\\Python\\Python310\\site-packages\\ipykernel\\kernelapp.py\", line 712, in start\n      self.io_loop.start()\n    File \"D:\\Users\\BKU\\ayhamshalaby\\AppData(Roaming)\\Python\\Python310\\site-packages\\tornado\\platform\\asyncio.py\", line 215, in start\n      self.asyncio_loop.run_forever()\n    File \"c:\\Users\\ayhamshalaby\\AppData\\Local\\Programs\\Python\\Python310\\lib\\asyncio\\base_events.py\", line 600, in run_forever\n      self._run_once()\n    File \"c:\\Users\\ayhamshalaby\\AppData\\Local\\Programs\\Python\\Python310\\lib\\asyncio\\base_events.py\", line 1896, in _run_once\n      handle._run()\n    File \"c:\\Users\\ayhamshalaby\\AppData\\Local\\Programs\\Python\\Python310\\lib\\asyncio\\events.py\", line 80, in _run\n      self._context.run(self._callback, *self._args)\n    File \"D:\\Users\\BKU\\ayhamshalaby\\AppData(Roaming)\\Python\\Python310\\site-packages\\ipykernel\\kernelbase.py\", line 510, in dispatch_queue\n      await self.process_one()\n    File \"D:\\Users\\BKU\\ayhamshalaby\\AppData(Roaming)\\Python\\Python310\\site-packages\\ipykernel\\kernelbase.py\", line 499, in process_one\n      await dispatch(*args)\n    File \"D:\\Users\\BKU\\ayhamshalaby\\AppData(Roaming)\\Python\\Python310\\site-packages\\ipykernel\\kernelbase.py\", line 406, in dispatch_shell\n      await result\n    File \"D:\\Users\\BKU\\ayhamshalaby\\AppData(Roaming)\\Python\\Python310\\site-packages\\ipykernel\\kernelbase.py\", line 730, in execute_request\n      reply_content = await reply_content\n    File \"D:\\Users\\BKU\\ayhamshalaby\\AppData(Roaming)\\Python\\Python310\\site-packages\\ipykernel\\ipkernel.py\", line 383, in do_execute\n      res = shell.run_cell(\n    File \"D:\\Users\\BKU\\ayhamshalaby\\AppData(Roaming)\\Python\\Python310\\site-packages\\ipykernel\\zmqshell.py\", line 528, in run_cell\n      return super().run_cell(*args, **kwargs)\n    File \"D:\\Users\\BKU\\ayhamshalaby\\AppData(Roaming)\\Python\\Python310\\site-packages\\IPython\\core\\interactiveshell.py\", line 2885, in run_cell\n      result = self._run_cell(\n    File \"D:\\Users\\BKU\\ayhamshalaby\\AppData(Roaming)\\Python\\Python310\\site-packages\\IPython\\core\\interactiveshell.py\", line 2940, in _run_cell\n      return runner(coro)\n    File \"D:\\Users\\BKU\\ayhamshalaby\\AppData(Roaming)\\Python\\Python310\\site-packages\\IPython\\core\\async_helpers.py\", line 129, in _pseudo_sync_runner\n      coro.send(None)\n    File \"D:\\Users\\BKU\\ayhamshalaby\\AppData(Roaming)\\Python\\Python310\\site-packages\\IPython\\core\\interactiveshell.py\", line 3139, in run_cell_async\n      has_raised = await self.run_ast_nodes(code_ast.body, cell_name,\n    File \"D:\\Users\\BKU\\ayhamshalaby\\AppData(Roaming)\\Python\\Python310\\site-packages\\IPython\\core\\interactiveshell.py\", line 3318, in run_ast_nodes\n      if await self.run_code(code, result, async_=asy):\n    File \"D:\\Users\\BKU\\ayhamshalaby\\AppData(Roaming)\\Python\\Python310\\site-packages\\IPython\\core\\interactiveshell.py\", line 3378, in run_code\n      exec(code_obj, self.user_global_ns, self.user_ns)\n    File \"C:\\Users\\ayhamshalaby\\AppData\\Local\\Temp\\ipykernel_6100\\149891945.py\", line 28, in <module>\n      model.fit(X_train_sampled, y_train_sampled, epochs=EPOCHS, batch_size=batch)\n    File \"c:\\Users\\ayhamshalaby\\AppData\\Local\\Programs\\Python\\Python310\\lib\\site-packages\\keras\\utils\\traceback_utils.py\", line 65, in error_handler\n      return fn(*args, **kwargs)\n    File \"c:\\Users\\ayhamshalaby\\AppData\\Local\\Programs\\Python\\Python310\\lib\\site-packages\\keras\\engine\\training.py\", line 1564, in fit\n      tmp_logs = self.train_function(iterator)\n    File \"c:\\Users\\ayhamshalaby\\AppData\\Local\\Programs\\Python\\Python310\\lib\\site-packages\\keras\\engine\\training.py\", line 1160, in train_function\n      return step_function(self, iterator)\n    File \"c:\\Users\\ayhamshalaby\\AppData\\Local\\Programs\\Python\\Python310\\lib\\site-packages\\keras\\engine\\training.py\", line 1146, in step_function\n      outputs = model.distribute_strategy.run(run_step, args=(data,))\n    File \"c:\\Users\\ayhamshalaby\\AppData\\Local\\Programs\\Python\\Python310\\lib\\site-packages\\keras\\engine\\training.py\", line 1135, in run_step\n      outputs = model.train_step(data)\n    File \"c:\\Users\\ayhamshalaby\\AppData\\Local\\Programs\\Python\\Python310\\lib\\site-packages\\keras\\engine\\training.py\", line 994, in train_step\n      loss = self.compute_loss(x, y, y_pred, sample_weight)\n    File \"c:\\Users\\ayhamshalaby\\AppData\\Local\\Programs\\Python\\Python310\\lib\\site-packages\\keras\\engine\\training.py\", line 1052, in compute_loss\n      return self.compiled_loss(\n    File \"c:\\Users\\ayhamshalaby\\AppData\\Local\\Programs\\Python\\Python310\\lib\\site-packages\\keras\\engine\\compile_utils.py\", line 265, in __call__\n      loss_value = loss_obj(y_t, y_p, sample_weight=sw)\n    File \"c:\\Users\\ayhamshalaby\\AppData\\Local\\Programs\\Python\\Python310\\lib\\site-packages\\keras\\losses.py\", line 152, in __call__\n      losses = call_fn(y_true, y_pred)\n    File \"c:\\Users\\ayhamshalaby\\AppData\\Local\\Programs\\Python\\Python310\\lib\\site-packages\\keras\\losses.py\", line 272, in call\n      return ag_fn(y_true, y_pred, **self._fn_kwargs)\n    File \"c:\\Users\\ayhamshalaby\\AppData\\Local\\Programs\\Python\\Python310\\lib\\site-packages\\keras\\losses.py\", line 2151, in binary_crossentropy\n      y_true = tf.cast(y_true, y_pred.dtype)\nNode: 'binary_crossentropy/Cast'\nCast string to float is not supported\n\t [[{{node binary_crossentropy/Cast}}]] [Op:__inference_train_function_70092]",
          "output_type": "error",
          "traceback": [
            "\u001b[1;31m---------------------------------------------------------------------------\u001b[0m",
            "\u001b[1;31mUnimplementedError\u001b[0m                        Traceback (most recent call last)",
            "Cell \u001b[1;32mIn [32], line 28\u001b[0m\n\u001b[0;32m     22\u001b[0m \u001b[38;5;28mprint\u001b[39m(\u001b[38;5;124mf\u001b[39m\u001b[38;5;124m\"\u001b[39m\u001b[38;5;124mTry adam learning rate of: \u001b[39m\u001b[38;5;132;01m{\u001b[39;00mlr\u001b[38;5;132;01m}\u001b[39;00m\u001b[38;5;124m and e: \u001b[39m\u001b[38;5;132;01m{\u001b[39;00mep\u001b[38;5;132;01m}\u001b[39;00m\u001b[38;5;124m and batch size: \u001b[39m\u001b[38;5;132;01m{\u001b[39;00mbatch\u001b[38;5;132;01m}\u001b[39;00m\u001b[38;5;124m\"\u001b[39m)\n\u001b[0;32m     24\u001b[0m model\u001b[38;5;241m.\u001b[39mcompile(optimizer\u001b[38;5;241m=\u001b[39mtf\u001b[38;5;241m.\u001b[39mkeras\u001b[38;5;241m.\u001b[39moptimizers\u001b[38;5;241m.\u001b[39mAdam(learning_rate\u001b[38;5;241m=\u001b[39mlr, epsilon\u001b[38;5;241m=\u001b[39mep),\n\u001b[0;32m     25\u001b[0m   loss\u001b[38;5;241m=\u001b[39mtf\u001b[38;5;241m.\u001b[39mkeras\u001b[38;5;241m.\u001b[39mlosses\u001b[38;5;241m.\u001b[39mBinaryCrossentropy(),\n\u001b[0;32m     26\u001b[0m   metrics\u001b[38;5;241m=\u001b[39mMETRICS)\n\u001b[1;32m---> 28\u001b[0m \u001b[43mmodel\u001b[49m\u001b[38;5;241;43m.\u001b[39;49m\u001b[43mfit\u001b[49m\u001b[43m(\u001b[49m\u001b[43mX_train_sampled\u001b[49m\u001b[43m,\u001b[49m\u001b[43m \u001b[49m\u001b[43my_train_sampled\u001b[49m\u001b[43m,\u001b[49m\u001b[43m \u001b[49m\u001b[43mepochs\u001b[49m\u001b[38;5;241;43m=\u001b[39;49m\u001b[43mEPOCHS\u001b[49m\u001b[43m,\u001b[49m\u001b[43m \u001b[49m\u001b[43mbatch_size\u001b[49m\u001b[38;5;241;43m=\u001b[39;49m\u001b[43mbatch\u001b[49m\u001b[43m)\u001b[49m\n\u001b[0;32m     29\u001b[0m model\u001b[38;5;241m.\u001b[39mevaluate(X_test_sampled, y_test_sampled)\n",
            "File \u001b[1;32mc:\\Users\\ayhamshalaby\\AppData\\Local\\Programs\\Python\\Python310\\lib\\site-packages\\keras\\utils\\traceback_utils.py:70\u001b[0m, in \u001b[0;36mfilter_traceback.<locals>.error_handler\u001b[1;34m(*args, **kwargs)\u001b[0m\n\u001b[0;32m     67\u001b[0m     filtered_tb \u001b[39m=\u001b[39m _process_traceback_frames(e\u001b[39m.\u001b[39m__traceback__)\n\u001b[0;32m     68\u001b[0m     \u001b[39m# To get the full stack trace, call:\u001b[39;00m\n\u001b[0;32m     69\u001b[0m     \u001b[39m# `tf.debugging.disable_traceback_filtering()`\u001b[39;00m\n\u001b[1;32m---> 70\u001b[0m     \u001b[39mraise\u001b[39;00m e\u001b[39m.\u001b[39mwith_traceback(filtered_tb) \u001b[39mfrom\u001b[39;00m \u001b[39mNone\u001b[39m\n\u001b[0;32m     71\u001b[0m \u001b[39mfinally\u001b[39;00m:\n\u001b[0;32m     72\u001b[0m     \u001b[39mdel\u001b[39;00m filtered_tb\n",
            "File \u001b[1;32mc:\\Users\\ayhamshalaby\\AppData\\Local\\Programs\\Python\\Python310\\lib\\site-packages\\tensorflow\\python\\eager\\execute.py:54\u001b[0m, in \u001b[0;36mquick_execute\u001b[1;34m(op_name, num_outputs, inputs, attrs, ctx, name)\u001b[0m\n\u001b[0;32m     52\u001b[0m \u001b[39mtry\u001b[39;00m:\n\u001b[0;32m     53\u001b[0m   ctx\u001b[39m.\u001b[39mensure_initialized()\n\u001b[1;32m---> 54\u001b[0m   tensors \u001b[39m=\u001b[39m pywrap_tfe\u001b[39m.\u001b[39mTFE_Py_Execute(ctx\u001b[39m.\u001b[39m_handle, device_name, op_name,\n\u001b[0;32m     55\u001b[0m                                       inputs, attrs, num_outputs)\n\u001b[0;32m     56\u001b[0m \u001b[39mexcept\u001b[39;00m core\u001b[39m.\u001b[39m_NotOkStatusException \u001b[39mas\u001b[39;00m e:\n\u001b[0;32m     57\u001b[0m   \u001b[39mif\u001b[39;00m name \u001b[39mis\u001b[39;00m \u001b[39mnot\u001b[39;00m \u001b[39mNone\u001b[39;00m:\n",
            "\u001b[1;31mUnimplementedError\u001b[0m: Graph execution error:\n\nDetected at node 'binary_crossentropy/Cast' defined at (most recent call last):\n    File \"c:\\Users\\ayhamshalaby\\AppData\\Local\\Programs\\Python\\Python310\\lib\\runpy.py\", line 196, in _run_module_as_main\n      return _run_code(code, main_globals, None,\n    File \"c:\\Users\\ayhamshalaby\\AppData\\Local\\Programs\\Python\\Python310\\lib\\runpy.py\", line 86, in _run_code\n      exec(code, run_globals)\n    File \"D:\\Users\\BKU\\ayhamshalaby\\AppData(Roaming)\\Python\\Python310\\site-packages\\ipykernel_launcher.py\", line 17, in <module>\n      app.launch_new_instance()\n    File \"D:\\Users\\BKU\\ayhamshalaby\\AppData(Roaming)\\Python\\Python310\\site-packages\\traitlets\\config\\application.py\", line 976, in launch_instance\n      app.start()\n    File \"D:\\Users\\BKU\\ayhamshalaby\\AppData(Roaming)\\Python\\Python310\\site-packages\\ipykernel\\kernelapp.py\", line 712, in start\n      self.io_loop.start()\n    File \"D:\\Users\\BKU\\ayhamshalaby\\AppData(Roaming)\\Python\\Python310\\site-packages\\tornado\\platform\\asyncio.py\", line 215, in start\n      self.asyncio_loop.run_forever()\n    File \"c:\\Users\\ayhamshalaby\\AppData\\Local\\Programs\\Python\\Python310\\lib\\asyncio\\base_events.py\", line 600, in run_forever\n      self._run_once()\n    File \"c:\\Users\\ayhamshalaby\\AppData\\Local\\Programs\\Python\\Python310\\lib\\asyncio\\base_events.py\", line 1896, in _run_once\n      handle._run()\n    File \"c:\\Users\\ayhamshalaby\\AppData\\Local\\Programs\\Python\\Python310\\lib\\asyncio\\events.py\", line 80, in _run\n      self._context.run(self._callback, *self._args)\n    File \"D:\\Users\\BKU\\ayhamshalaby\\AppData(Roaming)\\Python\\Python310\\site-packages\\ipykernel\\kernelbase.py\", line 510, in dispatch_queue\n      await self.process_one()\n    File \"D:\\Users\\BKU\\ayhamshalaby\\AppData(Roaming)\\Python\\Python310\\site-packages\\ipykernel\\kernelbase.py\", line 499, in process_one\n      await dispatch(*args)\n    File \"D:\\Users\\BKU\\ayhamshalaby\\AppData(Roaming)\\Python\\Python310\\site-packages\\ipykernel\\kernelbase.py\", line 406, in dispatch_shell\n      await result\n    File \"D:\\Users\\BKU\\ayhamshalaby\\AppData(Roaming)\\Python\\Python310\\site-packages\\ipykernel\\kernelbase.py\", line 730, in execute_request\n      reply_content = await reply_content\n    File \"D:\\Users\\BKU\\ayhamshalaby\\AppData(Roaming)\\Python\\Python310\\site-packages\\ipykernel\\ipkernel.py\", line 383, in do_execute\n      res = shell.run_cell(\n    File \"D:\\Users\\BKU\\ayhamshalaby\\AppData(Roaming)\\Python\\Python310\\site-packages\\ipykernel\\zmqshell.py\", line 528, in run_cell\n      return super().run_cell(*args, **kwargs)\n    File \"D:\\Users\\BKU\\ayhamshalaby\\AppData(Roaming)\\Python\\Python310\\site-packages\\IPython\\core\\interactiveshell.py\", line 2885, in run_cell\n      result = self._run_cell(\n    File \"D:\\Users\\BKU\\ayhamshalaby\\AppData(Roaming)\\Python\\Python310\\site-packages\\IPython\\core\\interactiveshell.py\", line 2940, in _run_cell\n      return runner(coro)\n    File \"D:\\Users\\BKU\\ayhamshalaby\\AppData(Roaming)\\Python\\Python310\\site-packages\\IPython\\core\\async_helpers.py\", line 129, in _pseudo_sync_runner\n      coro.send(None)\n    File \"D:\\Users\\BKU\\ayhamshalaby\\AppData(Roaming)\\Python\\Python310\\site-packages\\IPython\\core\\interactiveshell.py\", line 3139, in run_cell_async\n      has_raised = await self.run_ast_nodes(code_ast.body, cell_name,\n    File \"D:\\Users\\BKU\\ayhamshalaby\\AppData(Roaming)\\Python\\Python310\\site-packages\\IPython\\core\\interactiveshell.py\", line 3318, in run_ast_nodes\n      if await self.run_code(code, result, async_=asy):\n    File \"D:\\Users\\BKU\\ayhamshalaby\\AppData(Roaming)\\Python\\Python310\\site-packages\\IPython\\core\\interactiveshell.py\", line 3378, in run_code\n      exec(code_obj, self.user_global_ns, self.user_ns)\n    File \"C:\\Users\\ayhamshalaby\\AppData\\Local\\Temp\\ipykernel_6100\\149891945.py\", line 28, in <module>\n      model.fit(X_train_sampled, y_train_sampled, epochs=EPOCHS, batch_size=batch)\n    File \"c:\\Users\\ayhamshalaby\\AppData\\Local\\Programs\\Python\\Python310\\lib\\site-packages\\keras\\utils\\traceback_utils.py\", line 65, in error_handler\n      return fn(*args, **kwargs)\n    File \"c:\\Users\\ayhamshalaby\\AppData\\Local\\Programs\\Python\\Python310\\lib\\site-packages\\keras\\engine\\training.py\", line 1564, in fit\n      tmp_logs = self.train_function(iterator)\n    File \"c:\\Users\\ayhamshalaby\\AppData\\Local\\Programs\\Python\\Python310\\lib\\site-packages\\keras\\engine\\training.py\", line 1160, in train_function\n      return step_function(self, iterator)\n    File \"c:\\Users\\ayhamshalaby\\AppData\\Local\\Programs\\Python\\Python310\\lib\\site-packages\\keras\\engine\\training.py\", line 1146, in step_function\n      outputs = model.distribute_strategy.run(run_step, args=(data,))\n    File \"c:\\Users\\ayhamshalaby\\AppData\\Local\\Programs\\Python\\Python310\\lib\\site-packages\\keras\\engine\\training.py\", line 1135, in run_step\n      outputs = model.train_step(data)\n    File \"c:\\Users\\ayhamshalaby\\AppData\\Local\\Programs\\Python\\Python310\\lib\\site-packages\\keras\\engine\\training.py\", line 994, in train_step\n      loss = self.compute_loss(x, y, y_pred, sample_weight)\n    File \"c:\\Users\\ayhamshalaby\\AppData\\Local\\Programs\\Python\\Python310\\lib\\site-packages\\keras\\engine\\training.py\", line 1052, in compute_loss\n      return self.compiled_loss(\n    File \"c:\\Users\\ayhamshalaby\\AppData\\Local\\Programs\\Python\\Python310\\lib\\site-packages\\keras\\engine\\compile_utils.py\", line 265, in __call__\n      loss_value = loss_obj(y_t, y_p, sample_weight=sw)\n    File \"c:\\Users\\ayhamshalaby\\AppData\\Local\\Programs\\Python\\Python310\\lib\\site-packages\\keras\\losses.py\", line 152, in __call__\n      losses = call_fn(y_true, y_pred)\n    File \"c:\\Users\\ayhamshalaby\\AppData\\Local\\Programs\\Python\\Python310\\lib\\site-packages\\keras\\losses.py\", line 272, in call\n      return ag_fn(y_true, y_pred, **self._fn_kwargs)\n    File \"c:\\Users\\ayhamshalaby\\AppData\\Local\\Programs\\Python\\Python310\\lib\\site-packages\\keras\\losses.py\", line 2151, in binary_crossentropy\n      y_true = tf.cast(y_true, y_pred.dtype)\nNode: 'binary_crossentropy/Cast'\nCast string to float is not supported\n\t [[{{node binary_crossentropy/Cast}}]] [Op:__inference_train_function_70092]"
          ]
        }
      ],
      "source": [
        "import numpy as np\n",
        "import itertools\n",
        "EPOCHS = 5\n",
        "\n",
        "METRICS = [\n",
        "      tf.keras.metrics.BinaryAccuracy(name='accuracy'),\n",
        "      tf.keras.metrics.Precision(name='precision'),\n",
        "      tf.keras.metrics.Recall(name='recall'),\n",
        "]\n",
        "\n",
        "\n",
        "lr_values = np.arange(1e-3, 1e-2, 0.001)\n",
        "epsilon_values = [1e-6, 1e-5, 1e-4, 1e-3, 1e-2, 1e-1]\n",
        "batch_values = [32]\n",
        "\n",
        "values = list(itertools.product(lr_values, epsilon_values, batch_values))\n",
        "\n",
        "print(f\"Combinations: {len(values)}\")\n",
        "for lr, ep, batch in values:\n",
        "  model: tf.keras.Model = build_model()\n",
        "\n",
        "  print(f\"Try adam learning rate of: {lr} and e: {ep} and batch size: {batch}\")\n",
        "\n",
        "  model.compile(optimizer=tf.keras.optimizers.Adam(learning_rate=lr, epsilon=ep),\n",
        "    loss=tf.keras.losses.BinaryCrossentropy(),\n",
        "    metrics=METRICS)\n",
        "    \n",
        "  model.fit(X_train_sampled, y_train_sampled, epochs=EPOCHS, batch_size=batch)\n",
        "  model.evaluate(X_test_sampled, y_test_sampled)"
      ]
    },
    {
      "cell_type": "markdown",
      "metadata": {
        "id": "lN1d7FjKCdy5"
      },
      "source": [
        "# Evaluation of learning rate and epsilon\n",
        "After running the grid search for different learning rate values with 20k samples for 5 epochs, we get the following results. \n",
        "\n",
        "\n",
        "\n",
        "\n",
        "```\n",
        "    Try adam learning rate of: 0.001 and e: 1e-06 and batch size: 32\n",
        "    accuracy: 0.8656 - precision: 0.8964 - recall: 0.8237\n",
        "    Try adam learning rate of: 0.001 and e: 1e-05 and batch size: 32\n",
        "    accuracy: 0.8634 - precision: 0.9016 - recall: 0.8126\n",
        "    Try adam learning rate of: 0.001 and e: 0.0001 and batch size: 32\n",
        "    accuracy: 0.8676 - precision: 0.9010 - recall: 0.8229\n",
        "    Try adam learning rate of: 0.001 and e: 0.001 and batch size: 32\n",
        "    accuracy: 0.8744 - precision: 0.8774 - recall: 0.8674\n",
        "    Try adam learning rate of: 0.001 and e: 0.01 and batch size: 32\n",
        "    accuracy: 0.8439 - precision: 0.9033 - recall: 0.7666\n",
        "    Try adam learning rate of: 0.001 and e: 0.1 and batch size: 32\n",
        "    accuracy: 0.8291 - precision: 0.8127 - recall: 0.8507\n",
        "    Try adam learning rate of: 0.002 and e: 1e-06 and batch size: 32\n",
        "    accuracy: 0.8875 - precision: 0.8883 - recall: 0.8838\n",
        "    Try adam learning rate of: 0.002 and e: 1e-05 and batch size: 32\n",
        "    accuracy: 0.8826 - precision: 0.8503 - recall: 0.9257\n",
        "    Try adam learning rate of: 0.002 and e: 0.0001 and batch size: 32\n",
        "    accuracy: 0.8857 - precision: 0.8647 - recall: 0.9118\n",
        "    Try adam learning rate of: 0.002 and e: 0.001 and batch size: 32\n",
        "    accuracy: 0.8838 - precision: 0.8753 - recall: 0.8921\n",
        "    Try adam learning rate of: 0.002 and e: 0.01 and batch size: 32\n",
        "    accuracy: 0.8677 - precision: 0.8276 - recall: 0.9255\n",
        "    Try adam learning rate of: 0.002 and e: 0.1 and batch size: 32\n",
        "    accuracy: 0.8446 - precision: 0.8258 - recall: 0.8694\n",
        "    Try adam learning rate of: 0.003 and e: 1e-06 and batch size: 32\n",
        "    accuracy: 0.8919 - precision: 0.8762 - recall: 0.9101\n",
        "    Try adam learning rate of: 0.003 and e: 1e-05 and batch size: 32\n",
        "    accuracy: 0.8917 - precision: 0.9028 - recall: 0.8755\n",
        "    Try adam learning rate of: 0.003 and e: 0.0001 and batch size: 32\n",
        "    accuracy: 0.8842 - precision: 0.8444 - recall: 0.9391\n",
        "    Try adam learning rate of: 0.003 and e: 0.001 and batch size: 32\n",
        "    accuracy: 0.8903 - precision: 0.9013 - recall: 0.8740\n",
        "    Try adam learning rate of: 0.003 and e: 0.01 and batch size: 32\n",
        "    accuracy: 0.8841 - precision: 0.8852 - recall: 0.8800\n",
        "    Try adam learning rate of: 0.003 and e: 0.1 and batch size: 32\n",
        "    accuracy: 0.8531 - precision: 0.8754 - recall: 0.8199\n",
        "    Try adam learning rate of: 0.004 and e: 1e-06 and batch size: 32\n",
        "    accuracy: 0.8866 - precision: 0.9311 - recall: 0.8325\n",
        "    Try adam learning rate of: 0.004 and e: 1e-05 and batch size: 32\n",
        "    accuracy: 0.8830 - precision: 0.8373 - recall: 0.9477\n",
        "    Try adam learning rate of: 0.004 and e: 0.0001 and batch size: 32\n",
        "    accuracy: 0.8971 - precision: 0.9052 - recall: 0.8848\n",
        "    Try adam learning rate of: 0.004 and e: 0.001 and batch size: 32\n",
        "    accuracy: 0.8953 - precision: 0.8807 - recall: 0.9118\n",
        "    Try adam learning rate of: 0.004 and e: 0.01 and batch size: 32\n",
        "    accuracy: 0.8864 - precision: 0.8882 - recall: 0.8813\n",
        "    Try adam learning rate of: 0.004 and e: 0.1 and batch size: 32\n",
        "    accuracy: 0.8602 - precision: 0.8298 - recall: 0.9028\n",
        "    Try adam learning rate of: 0.005 and e: 1e-06 and batch size: 32\n",
        "    accuracy: 0.8754 - precision: 0.8184 - recall: 0.9616\n",
        "    Try adam learning rate of: 0.005 and e: 1e-05 and batch size: 32\n",
        "    accuracy: 0.8775 - precision: 0.9474 - recall: 0.7967\n",
        "    Try adam learning rate of: 0.005 and e: 0.0001 and batch size: 32\n",
        "    accuracy: 0.8891 - precision: 0.9298 - recall: 0.8394\n",
        "    Try adam learning rate of: 0.005 and e: 0.001 and batch size: 32\n",
        "    accuracy: 0.8972 - precision: 0.8934 - recall: 0.8997\n",
        "    Try adam learning rate of: 0.005 and e: 0.01 and batch size: 32\n",
        "    accuracy: 0.8873 - precision: 0.8688 - recall: 0.9096\n",
        "    Try adam learning rate of: 0.005 and e: 0.1 and batch size: 32\n",
        "    accuracy: 0.8644 - precision: 0.8453 - recall: 0.8886\n",
        "    Try adam learning rate of: 0.006 and e: 1e-06 and batch size: 32\n",
        "    accuracy: 0.8219 - precision: 0.7411 - recall: 0.9838\n",
        "    Try adam learning rate of: 0.006 and e: 1e-05 and batch size: 32\n",
        "    accuracy: 0.8846 - precision: 0.9486 - recall: 0.8108\n",
        "    Try adam learning rate of: 0.006 and e: 0.0001 and batch size: 32\n",
        "    accuracy: 0.9013 - precision: 0.9047 - recall: 0.8947\n",
        "    Try adam learning rate of: 0.006 and e: 0.001 and batch size: 32\n",
        "    accuracy: 0.7896 - precision: 0.9814 - recall: 0.5860\n",
        "    Try adam learning rate of: 0.006 and e: 0.01 and batch size: 32\n",
        "    accuracy: 0.8873 - precision: 0.8529 - recall: 0.9331\n",
        "    Try adam learning rate of: 0.006 and e: 0.1 and batch size: 32\n",
        "    accuracy: 0.8700 - precision: 0.8587 - recall: 0.8825\n",
        "Try adam learning rate of: 0.007 and e: 1e-06 and batch size: 32\n",
        "> accuracy: 0.9038 - precision: 0.8971 - recall: 0.9098\n",
        "    Try adam learning rate of: 0.007 and e: 1e-05 and batch size: 32\n",
        "    accuracy: 0.8845 - precision: 0.8837 - recall: 0.8870\n",
        "    accuracy: 0.9019 - precision: 0.8795 - recall: 0.9290\n",
        "    Try adam learning rate of: 0.007 and e: 0.0001 and batch size: 32\n",
        "    accuracy: 0.8942 - precision: 0.9342 - recall: 0.8459\n",
        "    Try adam learning rate of: 0.007 and e: 0.001 and batch size: 32\n",
        "    accuracy: 0.8972 - precision: 0.8709 - recall: 0.9303\n",
        "    Try adam learning rate of: 0.007 and e: 0.01 and batch size: 32\n",
        "    accuracy: 0.8785 - precision: 0.9361 - recall: 0.8098\n",
        "    Try adam learning rate of: 0.007 and e: 0.1 and batch size: 32\n",
        "    accuracy: 0.8725 - precision: 0.8619 - recall: 0.8841\n",
        "    Try adam learning rate of: 0.008 and e: 1e-06 and batch size: 32\n",
        "    accuracy: 0.8990 - precision: 0.9207 - recall: 0.8709\n",
        "    Try adam learning rate of: 0.008 and e: 1e-05 and batch size: 32\n",
        "    accuracy: 0.9013 - precision: 0.9177 - recall: 0.8793\n",
        "    Try adam learning rate of: 0.008 and e: 0.0001 and batch size: 32\n",
        "    accuracy: 0.8982 - precision: 0.9217 - recall: 0.8681\n",
        "    Try adam learning rate of: 0.008 and e: 0.001 and batch size: 32\n",
        "    accuracy: 0.8899 - precision: 0.9370 - recall: 0.8335\n",
        "    Try adam learning rate of: 0.008 and e: 0.01 and batch size: 32\n",
        "    accuracy: 0.8873 - precision: 0.9214 - recall: 0.8442\n",
        "    Try adam learning rate of: 0.008 and e: 0.1 and batch size: 32\n",
        "    accuracy: 0.8616 - precision: 0.8165 - recall: 0.9293\n",
        "    Try adam learning rate of: 0.009000000000000001 and e: 1e-06 and batch size: 32\n",
        "    accuracy: 0.8947 - precision: 0.9306 - recall: 0.8507\n",
        "    Try adam learning rate of: 0.009000000000000001 and e: 1e-05 and batch size: 32\n",
        "    accuracy: 0.8964 - precision: 0.9372 - recall: 0.8474\n",
        "    Try adam learning rate of: 0.009000000000000001 and e: 0.0001 and batch size: 32\n",
        "    accuracy: 0.8854 - precision: 0.8317 - recall: 0.9634\n",
        "    Try adam learning rate of: 0.009000000000000001 and e: 0.001 and batch size: 32\n",
        "    accuracy: 0.8859 - precision: 0.9482 - recall: 0.8138\n",
        "    Try adam learning rate of: 0.009000000000000001 and e: 0.01 and batch size: 32\n",
        "    accuracy: 0.8776 - precision: 0.9427 - recall: 0.8015\n",
        "    Try adam learning rate of: 0.009000000000000001 and e: 0.1 and batch size: 32\n",
        "    accuracy: 0.8689 - precision: 0.9006 - recall: 0.8262\n",
        "```\n",
        "\n",
        "> The best results are reached for a learning rate of 0.007 and an epsilon of 1e-06."
      ]
    },
    {
      "cell_type": "markdown",
      "metadata": {
        "id": "sCq_kkzYE_cR"
      },
      "source": [
        "# Evaluate Batch size\n",
        "\n",
        "Because the batch size is dependend on the data set size we had to run the grid search on the 200k data set. \n",
        "\n",
        "We used the optimized learning rate and episolon value from above."
      ]
    },
    {
      "cell_type": "code",
      "execution_count": null,
      "metadata": {
        "colab": {
          "base_uri": "https://localhost:8080/"
        },
        "id": "SSEDMrIXEYUT",
        "outputId": "d765492e-e421-4656-b374-00cbaceee07d"
      },
      "outputs": [
        {
          "name": "stdout",
          "output_type": "stream",
          "text": [
            "Try batch size: 512\n",
            "Epoch 1/5\n",
            "235/235 [==============================] - 1949s 8s/step - loss: 0.6083 - accuracy: 0.6828 - precision: 0.6796 - recall: 0.6892\n",
            "Epoch 2/5\n",
            "235/235 [==============================] - 1947s 8s/step - loss: 0.4847 - accuracy: 0.8055 - precision: 0.8028 - recall: 0.8091\n",
            "Epoch 3/5\n",
            "235/235 [==============================] - 1947s 8s/step - loss: 0.4245 - accuracy: 0.8334 - precision: 0.8306 - recall: 0.8369\n",
            "Epoch 4/5\n",
            "235/235 [==============================] - 1950s 8s/step - loss: 0.3911 - accuracy: 0.8450 - precision: 0.8418 - recall: 0.8488\n",
            "Epoch 5/5\n",
            "235/235 [==============================] - 1951s 8s/step - loss: 0.3653 - accuracy: 0.8539 - precision: 0.8520 - recall: 0.8558\n",
            "2500/2500 [==============================] - 491s 196ms/step - loss: 0.3360 - accuracy: 0.8771 - precision: 0.8654 - recall: 0.8940\n"
          ]
        }
      ],
      "source": [
        "import numpy as np\n",
        "import itertools\n",
        "EPOCHS = 5\n",
        "\n",
        "ADAM_LEARNING_RATE = 0.0007\n",
        "ADAM_EPSILON = 1e-06\n",
        "\n",
        "\n",
        "METRICS = [\n",
        "      tf.keras.metrics.BinaryAccuracy(name='accuracy'),\n",
        "      tf.keras.metrics.Precision(name='precision'),\n",
        "      tf.keras.metrics.Recall(name='recall'),\n",
        "]\n",
        "\n",
        "batch_values = [32, 38, 64, 128, 256, 512]\n",
        "\n",
        "for batch in batch_values:\n",
        "  model: tf.keras.Model = build_model()\n",
        "\n",
        "  print(f\"Try batch size: {batch}\")\n",
        "\n",
        "  model.compile(optimizer=tf.keras.optimizers.Adam(learning_rate=ADAM_LEARNING_RATE, epsilon=ADAM_EPSILON),\n",
        "    loss=tf.keras.losses.BinaryCrossentropy(),\n",
        "    metrics=METRICS)\n",
        "    \n",
        "  model.fit(X_train, y_train, epochs=EPOCHS, batch_size=batch)\n",
        "  model.evaluate(X_test, y_test)"
      ]
    },
    {
      "cell_type": "markdown",
      "metadata": {
        "id": "Ho82a4l8GM58"
      },
      "source": [
        "# Evaluate\n",
        "\n",
        "After training the model and evaluation the model for different batch sizes we come up with the following results. \n",
        "\n",
        "\n",
        "```\n",
        "    Try batch size: 32\n",
        "    accuracy: 0.9117 - precision: 0.9247 - recall: 0.8959\n",
        "    Try batch size: 48\n",
        "    accuracy: 0.9221 - precision: 0.9399 - recall: 0.9011\n",
        "Try batch size: 64\n",
        "accuracy: 0.9227 - precision: 0.9168 - recall: 0.9295\n",
        "    Try batch size: 128\n",
        "    accuracy: 0.8965 - precision: 0.8673 - recall: 0.9370\n",
        "    Try batch size: 256\n",
        "    accuracy: 0.9189 - precision: 0.9068 - recall: 0.9333\n",
        "    Try batch size: 512\n",
        "    accuracy: 0.8771 - precision: 0.8654 - recall: 0.8940\n",
        "```\n",
        "\n",
        "We managed to reach the highest score with batch size 64. Therefore we use this for the final training."
      ]
    },
    {
      "cell_type": "markdown",
      "metadata": {},
      "source": []
    }
  ],
  "metadata": {
    "accelerator": "GPU",
    "colab": {
      "collapsed_sections": [],
      "include_colab_link": true,
      "machine_shape": "hm",
      "name": "Kopie von ANN with BERT.ipynb",
      "provenance": []
    },
    "kernelspec": {
      "display_name": "Python 3.10.6 64-bit (system)",
      "language": "python",
      "name": "python3"
    },
    "language_info": {
      "codemirror_mode": {
        "name": "ipython",
        "version": 3
      },
      "file_extension": ".py",
      "mimetype": "text/x-python",
      "name": "python",
      "nbconvert_exporter": "python",
      "pygments_lexer": "ipython3",
      "version": "3.10.6"
    },
    "vscode": {
      "interpreter": {
        "hash": "d3a42d2e95199c7e2860bfa859105705b4de6fb30810a8e3e43082051688158b"
      }
    },
    "widgets": {
      "application/vnd.jupyter.widget-state+json": {
        "0e0b8ed2145342e78bf6050f12c2d0ab": {
          "model_module": "@jupyter-widgets/controls",
          "model_module_version": "1.5.0",
          "model_name": "DescriptionStyleModel",
          "state": {
            "_model_module": "@jupyter-widgets/controls",
            "_model_module_version": "1.5.0",
            "_model_name": "DescriptionStyleModel",
            "_view_count": null,
            "_view_module": "@jupyter-widgets/base",
            "_view_module_version": "1.2.0",
            "_view_name": "StyleView",
            "description_width": ""
          }
        },
        "16249a5f67fb497ea1b5a9600249611b": {
          "model_module": "@jupyter-widgets/controls",
          "model_module_version": "1.5.0",
          "model_name": "DescriptionStyleModel",
          "state": {
            "_model_module": "@jupyter-widgets/controls",
            "_model_module_version": "1.5.0",
            "_model_name": "DescriptionStyleModel",
            "_view_count": null,
            "_view_module": "@jupyter-widgets/base",
            "_view_module_version": "1.2.0",
            "_view_name": "StyleView",
            "description_width": ""
          }
        },
        "17dcbdeb96614310abbd76aaa6e50e15": {
          "model_module": "@jupyter-widgets/controls",
          "model_module_version": "1.5.0",
          "model_name": "HTMLModel",
          "state": {
            "_dom_classes": [],
            "_model_module": "@jupyter-widgets/controls",
            "_model_module_version": "1.5.0",
            "_model_name": "HTMLModel",
            "_view_count": null,
            "_view_module": "@jupyter-widgets/controls",
            "_view_module_version": "1.5.0",
            "_view_name": "HTMLView",
            "description": "",
            "description_tooltip": null,
            "layout": "IPY_MODEL_61e21028de82483188cd497ef8ef9e0e",
            "placeholder": "​",
            "style": "IPY_MODEL_ced37242f1f74347a6ff66e9ea165bdc",
            "value": " 570/570 [00:00&lt;00:00, 16.0kB/s]"
          }
        },
        "1f61b4c3deac46afa7260d198de789df": {
          "model_module": "@jupyter-widgets/controls",
          "model_module_version": "1.5.0",
          "model_name": "HTMLModel",
          "state": {
            "_dom_classes": [],
            "_model_module": "@jupyter-widgets/controls",
            "_model_module_version": "1.5.0",
            "_model_name": "HTMLModel",
            "_view_count": null,
            "_view_module": "@jupyter-widgets/controls",
            "_view_module_version": "1.5.0",
            "_view_name": "HTMLView",
            "description": "",
            "description_tooltip": null,
            "layout": "IPY_MODEL_cae5e7deafb44a488f772098c869fde3",
            "placeholder": "​",
            "style": "IPY_MODEL_beeec6138afb47d1b4cbf776c22ef709",
            "value": " 29.0/29.0 [00:00&lt;00:00, 626B/s]"
          }
        },
        "20208cdbe6634e4d81fbbf2f11eeec92": {
          "model_module": "@jupyter-widgets/controls",
          "model_module_version": "1.5.0",
          "model_name": "ProgressStyleModel",
          "state": {
            "_model_module": "@jupyter-widgets/controls",
            "_model_module_version": "1.5.0",
            "_model_name": "ProgressStyleModel",
            "_view_count": null,
            "_view_module": "@jupyter-widgets/base",
            "_view_module_version": "1.2.0",
            "_view_name": "StyleView",
            "bar_color": null,
            "description_width": ""
          }
        },
        "492134850a2c4bd8bcf2f3113b385981": {
          "model_module": "@jupyter-widgets/base",
          "model_module_version": "1.2.0",
          "model_name": "LayoutModel",
          "state": {
            "_model_module": "@jupyter-widgets/base",
            "_model_module_version": "1.2.0",
            "_model_name": "LayoutModel",
            "_view_count": null,
            "_view_module": "@jupyter-widgets/base",
            "_view_module_version": "1.2.0",
            "_view_name": "LayoutView",
            "align_content": null,
            "align_items": null,
            "align_self": null,
            "border": null,
            "bottom": null,
            "display": null,
            "flex": null,
            "flex_flow": null,
            "grid_area": null,
            "grid_auto_columns": null,
            "grid_auto_flow": null,
            "grid_auto_rows": null,
            "grid_column": null,
            "grid_gap": null,
            "grid_row": null,
            "grid_template_areas": null,
            "grid_template_columns": null,
            "grid_template_rows": null,
            "height": null,
            "justify_content": null,
            "justify_items": null,
            "left": null,
            "margin": null,
            "max_height": null,
            "max_width": null,
            "min_height": null,
            "min_width": null,
            "object_fit": null,
            "object_position": null,
            "order": null,
            "overflow": null,
            "overflow_x": null,
            "overflow_y": null,
            "padding": null,
            "right": null,
            "top": null,
            "visibility": null,
            "width": null
          }
        },
        "4e12044033be4fceab9f59836157cc8c": {
          "model_module": "@jupyter-widgets/base",
          "model_module_version": "1.2.0",
          "model_name": "LayoutModel",
          "state": {
            "_model_module": "@jupyter-widgets/base",
            "_model_module_version": "1.2.0",
            "_model_name": "LayoutModel",
            "_view_count": null,
            "_view_module": "@jupyter-widgets/base",
            "_view_module_version": "1.2.0",
            "_view_name": "LayoutView",
            "align_content": null,
            "align_items": null,
            "align_self": null,
            "border": null,
            "bottom": null,
            "display": null,
            "flex": null,
            "flex_flow": null,
            "grid_area": null,
            "grid_auto_columns": null,
            "grid_auto_flow": null,
            "grid_auto_rows": null,
            "grid_column": null,
            "grid_gap": null,
            "grid_row": null,
            "grid_template_areas": null,
            "grid_template_columns": null,
            "grid_template_rows": null,
            "height": null,
            "justify_content": null,
            "justify_items": null,
            "left": null,
            "margin": null,
            "max_height": null,
            "max_width": null,
            "min_height": null,
            "min_width": null,
            "object_fit": null,
            "object_position": null,
            "order": null,
            "overflow": null,
            "overflow_x": null,
            "overflow_y": null,
            "padding": null,
            "right": null,
            "top": null,
            "visibility": null,
            "width": null
          }
        },
        "58fe41ee7b5e4b68b4250c2a37e5d9c0": {
          "model_module": "@jupyter-widgets/controls",
          "model_module_version": "1.5.0",
          "model_name": "HTMLModel",
          "state": {
            "_dom_classes": [],
            "_model_module": "@jupyter-widgets/controls",
            "_model_module_version": "1.5.0",
            "_model_name": "HTMLModel",
            "_view_count": null,
            "_view_module": "@jupyter-widgets/controls",
            "_view_module_version": "1.5.0",
            "_view_name": "HTMLView",
            "description": "",
            "description_tooltip": null,
            "layout": "IPY_MODEL_68f2b06a8f354e61a9ca24777ee59896",
            "placeholder": "​",
            "style": "IPY_MODEL_844db5015fdf4c939ade055e6bc16504",
            "value": "Downloading: 100%"
          }
        },
        "61e21028de82483188cd497ef8ef9e0e": {
          "model_module": "@jupyter-widgets/base",
          "model_module_version": "1.2.0",
          "model_name": "LayoutModel",
          "state": {
            "_model_module": "@jupyter-widgets/base",
            "_model_module_version": "1.2.0",
            "_model_name": "LayoutModel",
            "_view_count": null,
            "_view_module": "@jupyter-widgets/base",
            "_view_module_version": "1.2.0",
            "_view_name": "LayoutView",
            "align_content": null,
            "align_items": null,
            "align_self": null,
            "border": null,
            "bottom": null,
            "display": null,
            "flex": null,
            "flex_flow": null,
            "grid_area": null,
            "grid_auto_columns": null,
            "grid_auto_flow": null,
            "grid_auto_rows": null,
            "grid_column": null,
            "grid_gap": null,
            "grid_row": null,
            "grid_template_areas": null,
            "grid_template_columns": null,
            "grid_template_rows": null,
            "height": null,
            "justify_content": null,
            "justify_items": null,
            "left": null,
            "margin": null,
            "max_height": null,
            "max_width": null,
            "min_height": null,
            "min_width": null,
            "object_fit": null,
            "object_position": null,
            "order": null,
            "overflow": null,
            "overflow_x": null,
            "overflow_y": null,
            "padding": null,
            "right": null,
            "top": null,
            "visibility": null,
            "width": null
          }
        },
        "677a8b56b75f4708b4c0c451f0196c90": {
          "model_module": "@jupyter-widgets/base",
          "model_module_version": "1.2.0",
          "model_name": "LayoutModel",
          "state": {
            "_model_module": "@jupyter-widgets/base",
            "_model_module_version": "1.2.0",
            "_model_name": "LayoutModel",
            "_view_count": null,
            "_view_module": "@jupyter-widgets/base",
            "_view_module_version": "1.2.0",
            "_view_name": "LayoutView",
            "align_content": null,
            "align_items": null,
            "align_self": null,
            "border": null,
            "bottom": null,
            "display": null,
            "flex": null,
            "flex_flow": null,
            "grid_area": null,
            "grid_auto_columns": null,
            "grid_auto_flow": null,
            "grid_auto_rows": null,
            "grid_column": null,
            "grid_gap": null,
            "grid_row": null,
            "grid_template_areas": null,
            "grid_template_columns": null,
            "grid_template_rows": null,
            "height": null,
            "justify_content": null,
            "justify_items": null,
            "left": null,
            "margin": null,
            "max_height": null,
            "max_width": null,
            "min_height": null,
            "min_width": null,
            "object_fit": null,
            "object_position": null,
            "order": null,
            "overflow": null,
            "overflow_x": null,
            "overflow_y": null,
            "padding": null,
            "right": null,
            "top": null,
            "visibility": null,
            "width": null
          }
        },
        "68f2b06a8f354e61a9ca24777ee59896": {
          "model_module": "@jupyter-widgets/base",
          "model_module_version": "1.2.0",
          "model_name": "LayoutModel",
          "state": {
            "_model_module": "@jupyter-widgets/base",
            "_model_module_version": "1.2.0",
            "_model_name": "LayoutModel",
            "_view_count": null,
            "_view_module": "@jupyter-widgets/base",
            "_view_module_version": "1.2.0",
            "_view_name": "LayoutView",
            "align_content": null,
            "align_items": null,
            "align_self": null,
            "border": null,
            "bottom": null,
            "display": null,
            "flex": null,
            "flex_flow": null,
            "grid_area": null,
            "grid_auto_columns": null,
            "grid_auto_flow": null,
            "grid_auto_rows": null,
            "grid_column": null,
            "grid_gap": null,
            "grid_row": null,
            "grid_template_areas": null,
            "grid_template_columns": null,
            "grid_template_rows": null,
            "height": null,
            "justify_content": null,
            "justify_items": null,
            "left": null,
            "margin": null,
            "max_height": null,
            "max_width": null,
            "min_height": null,
            "min_width": null,
            "object_fit": null,
            "object_position": null,
            "order": null,
            "overflow": null,
            "overflow_x": null,
            "overflow_y": null,
            "padding": null,
            "right": null,
            "top": null,
            "visibility": null,
            "width": null
          }
        },
        "6de109c73e744be393b7d2e6ba3cb812": {
          "model_module": "@jupyter-widgets/controls",
          "model_module_version": "1.5.0",
          "model_name": "ProgressStyleModel",
          "state": {
            "_model_module": "@jupyter-widgets/controls",
            "_model_module_version": "1.5.0",
            "_model_name": "ProgressStyleModel",
            "_view_count": null,
            "_view_module": "@jupyter-widgets/base",
            "_view_module_version": "1.2.0",
            "_view_name": "StyleView",
            "bar_color": null,
            "description_width": ""
          }
        },
        "740260148dd64d39896b2e9e0b625355": {
          "model_module": "@jupyter-widgets/controls",
          "model_module_version": "1.5.0",
          "model_name": "HTMLModel",
          "state": {
            "_dom_classes": [],
            "_model_module": "@jupyter-widgets/controls",
            "_model_module_version": "1.5.0",
            "_model_name": "HTMLModel",
            "_view_count": null,
            "_view_module": "@jupyter-widgets/controls",
            "_view_module_version": "1.5.0",
            "_view_name": "HTMLView",
            "description": "",
            "description_tooltip": null,
            "layout": "IPY_MODEL_d60e5a0301064d50857dbfc85f691014",
            "placeholder": "​",
            "style": "IPY_MODEL_0e0b8ed2145342e78bf6050f12c2d0ab",
            "value": "Downloading: 100%"
          }
        },
        "83dd64e052ce4a3f85d05bef0e3b0802": {
          "model_module": "@jupyter-widgets/controls",
          "model_module_version": "1.5.0",
          "model_name": "ProgressStyleModel",
          "state": {
            "_model_module": "@jupyter-widgets/controls",
            "_model_module_version": "1.5.0",
            "_model_name": "ProgressStyleModel",
            "_view_count": null,
            "_view_module": "@jupyter-widgets/base",
            "_view_module_version": "1.2.0",
            "_view_name": "StyleView",
            "bar_color": null,
            "description_width": ""
          }
        },
        "844db5015fdf4c939ade055e6bc16504": {
          "model_module": "@jupyter-widgets/controls",
          "model_module_version": "1.5.0",
          "model_name": "DescriptionStyleModel",
          "state": {
            "_model_module": "@jupyter-widgets/controls",
            "_model_module_version": "1.5.0",
            "_model_name": "DescriptionStyleModel",
            "_view_count": null,
            "_view_module": "@jupyter-widgets/base",
            "_view_module_version": "1.2.0",
            "_view_name": "StyleView",
            "description_width": ""
          }
        },
        "89004cadb6ba4b659789a0d9067f608f": {
          "model_module": "@jupyter-widgets/controls",
          "model_module_version": "1.5.0",
          "model_name": "HBoxModel",
          "state": {
            "_dom_classes": [],
            "_model_module": "@jupyter-widgets/controls",
            "_model_module_version": "1.5.0",
            "_model_name": "HBoxModel",
            "_view_count": null,
            "_view_module": "@jupyter-widgets/controls",
            "_view_module_version": "1.5.0",
            "_view_name": "HBoxView",
            "box_style": "",
            "children": [
              "IPY_MODEL_58fe41ee7b5e4b68b4250c2a37e5d9c0",
              "IPY_MODEL_da96936c40674aa48d0c1b08e0c903da",
              "IPY_MODEL_1f61b4c3deac46afa7260d198de789df"
            ],
            "layout": "IPY_MODEL_492134850a2c4bd8bcf2f3113b385981"
          }
        },
        "89de322b266f445ba47195a7315d8bdb": {
          "model_module": "@jupyter-widgets/controls",
          "model_module_version": "1.5.0",
          "model_name": "HBoxModel",
          "state": {
            "_dom_classes": [],
            "_model_module": "@jupyter-widgets/controls",
            "_model_module_version": "1.5.0",
            "_model_name": "HBoxModel",
            "_view_count": null,
            "_view_module": "@jupyter-widgets/controls",
            "_view_module_version": "1.5.0",
            "_view_name": "HBoxView",
            "box_style": "",
            "children": [
              "IPY_MODEL_b099cf64eec842b386ef955c34270735",
              "IPY_MODEL_fbec7d3e9d644686ba733a983544f48f",
              "IPY_MODEL_17dcbdeb96614310abbd76aaa6e50e15"
            ],
            "layout": "IPY_MODEL_9ffdf04cfbab4b62a5aebe7381aefad9"
          }
        },
        "92d06e0207bf4a2da666030932fb22cf": {
          "model_module": "@jupyter-widgets/base",
          "model_module_version": "1.2.0",
          "model_name": "LayoutModel",
          "state": {
            "_model_module": "@jupyter-widgets/base",
            "_model_module_version": "1.2.0",
            "_model_name": "LayoutModel",
            "_view_count": null,
            "_view_module": "@jupyter-widgets/base",
            "_view_module_version": "1.2.0",
            "_view_name": "LayoutView",
            "align_content": null,
            "align_items": null,
            "align_self": null,
            "border": null,
            "bottom": null,
            "display": null,
            "flex": null,
            "flex_flow": null,
            "grid_area": null,
            "grid_auto_columns": null,
            "grid_auto_flow": null,
            "grid_auto_rows": null,
            "grid_column": null,
            "grid_gap": null,
            "grid_row": null,
            "grid_template_areas": null,
            "grid_template_columns": null,
            "grid_template_rows": null,
            "height": null,
            "justify_content": null,
            "justify_items": null,
            "left": null,
            "margin": null,
            "max_height": null,
            "max_width": null,
            "min_height": null,
            "min_width": null,
            "object_fit": null,
            "object_position": null,
            "order": null,
            "overflow": null,
            "overflow_x": null,
            "overflow_y": null,
            "padding": null,
            "right": null,
            "top": null,
            "visibility": null,
            "width": null
          }
        },
        "94638bdc749449aab6bc8b5695910f48": {
          "model_module": "@jupyter-widgets/controls",
          "model_module_version": "1.5.0",
          "model_name": "FloatProgressModel",
          "state": {
            "_dom_classes": [],
            "_model_module": "@jupyter-widgets/controls",
            "_model_module_version": "1.5.0",
            "_model_name": "FloatProgressModel",
            "_view_count": null,
            "_view_module": "@jupyter-widgets/controls",
            "_view_module_version": "1.5.0",
            "_view_name": "ProgressView",
            "bar_style": "success",
            "description": "",
            "description_tooltip": null,
            "layout": "IPY_MODEL_f21ed56c72994aa48c8514a175bf8ed1",
            "max": 213450,
            "min": 0,
            "orientation": "horizontal",
            "style": "IPY_MODEL_6de109c73e744be393b7d2e6ba3cb812",
            "value": 213450
          }
        },
        "9ffdf04cfbab4b62a5aebe7381aefad9": {
          "model_module": "@jupyter-widgets/base",
          "model_module_version": "1.2.0",
          "model_name": "LayoutModel",
          "state": {
            "_model_module": "@jupyter-widgets/base",
            "_model_module_version": "1.2.0",
            "_model_name": "LayoutModel",
            "_view_count": null,
            "_view_module": "@jupyter-widgets/base",
            "_view_module_version": "1.2.0",
            "_view_name": "LayoutView",
            "align_content": null,
            "align_items": null,
            "align_self": null,
            "border": null,
            "bottom": null,
            "display": null,
            "flex": null,
            "flex_flow": null,
            "grid_area": null,
            "grid_auto_columns": null,
            "grid_auto_flow": null,
            "grid_auto_rows": null,
            "grid_column": null,
            "grid_gap": null,
            "grid_row": null,
            "grid_template_areas": null,
            "grid_template_columns": null,
            "grid_template_rows": null,
            "height": null,
            "justify_content": null,
            "justify_items": null,
            "left": null,
            "margin": null,
            "max_height": null,
            "max_width": null,
            "min_height": null,
            "min_width": null,
            "object_fit": null,
            "object_position": null,
            "order": null,
            "overflow": null,
            "overflow_x": null,
            "overflow_y": null,
            "padding": null,
            "right": null,
            "top": null,
            "visibility": null,
            "width": null
          }
        },
        "a05d0855cadd480bbc2029631a1a7f1d": {
          "model_module": "@jupyter-widgets/base",
          "model_module_version": "1.2.0",
          "model_name": "LayoutModel",
          "state": {
            "_model_module": "@jupyter-widgets/base",
            "_model_module_version": "1.2.0",
            "_model_name": "LayoutModel",
            "_view_count": null,
            "_view_module": "@jupyter-widgets/base",
            "_view_module_version": "1.2.0",
            "_view_name": "LayoutView",
            "align_content": null,
            "align_items": null,
            "align_self": null,
            "border": null,
            "bottom": null,
            "display": null,
            "flex": null,
            "flex_flow": null,
            "grid_area": null,
            "grid_auto_columns": null,
            "grid_auto_flow": null,
            "grid_auto_rows": null,
            "grid_column": null,
            "grid_gap": null,
            "grid_row": null,
            "grid_template_areas": null,
            "grid_template_columns": null,
            "grid_template_rows": null,
            "height": null,
            "justify_content": null,
            "justify_items": null,
            "left": null,
            "margin": null,
            "max_height": null,
            "max_width": null,
            "min_height": null,
            "min_width": null,
            "object_fit": null,
            "object_position": null,
            "order": null,
            "overflow": null,
            "overflow_x": null,
            "overflow_y": null,
            "padding": null,
            "right": null,
            "top": null,
            "visibility": null,
            "width": null
          }
        },
        "a962b96b834449e7812b1ebd9b1d67fc": {
          "model_module": "@jupyter-widgets/base",
          "model_module_version": "1.2.0",
          "model_name": "LayoutModel",
          "state": {
            "_model_module": "@jupyter-widgets/base",
            "_model_module_version": "1.2.0",
            "_model_name": "LayoutModel",
            "_view_count": null,
            "_view_module": "@jupyter-widgets/base",
            "_view_module_version": "1.2.0",
            "_view_name": "LayoutView",
            "align_content": null,
            "align_items": null,
            "align_self": null,
            "border": null,
            "bottom": null,
            "display": null,
            "flex": null,
            "flex_flow": null,
            "grid_area": null,
            "grid_auto_columns": null,
            "grid_auto_flow": null,
            "grid_auto_rows": null,
            "grid_column": null,
            "grid_gap": null,
            "grid_row": null,
            "grid_template_areas": null,
            "grid_template_columns": null,
            "grid_template_rows": null,
            "height": null,
            "justify_content": null,
            "justify_items": null,
            "left": null,
            "margin": null,
            "max_height": null,
            "max_width": null,
            "min_height": null,
            "min_width": null,
            "object_fit": null,
            "object_position": null,
            "order": null,
            "overflow": null,
            "overflow_x": null,
            "overflow_y": null,
            "padding": null,
            "right": null,
            "top": null,
            "visibility": null,
            "width": null
          }
        },
        "b099cf64eec842b386ef955c34270735": {
          "model_module": "@jupyter-widgets/controls",
          "model_module_version": "1.5.0",
          "model_name": "HTMLModel",
          "state": {
            "_dom_classes": [],
            "_model_module": "@jupyter-widgets/controls",
            "_model_module_version": "1.5.0",
            "_model_name": "HTMLModel",
            "_view_count": null,
            "_view_module": "@jupyter-widgets/controls",
            "_view_module_version": "1.5.0",
            "_view_name": "HTMLView",
            "description": "",
            "description_tooltip": null,
            "layout": "IPY_MODEL_a962b96b834449e7812b1ebd9b1d67fc",
            "placeholder": "​",
            "style": "IPY_MODEL_d049288f11ee437b952ca16e8c0a9670",
            "value": "Downloading: 100%"
          }
        },
        "beeec6138afb47d1b4cbf776c22ef709": {
          "model_module": "@jupyter-widgets/controls",
          "model_module_version": "1.5.0",
          "model_name": "DescriptionStyleModel",
          "state": {
            "_model_module": "@jupyter-widgets/controls",
            "_model_module_version": "1.5.0",
            "_model_name": "DescriptionStyleModel",
            "_view_count": null,
            "_view_module": "@jupyter-widgets/base",
            "_view_module_version": "1.2.0",
            "_view_name": "StyleView",
            "description_width": ""
          }
        },
        "c33d539aa06543c1a06bd515eb37aea2": {
          "model_module": "@jupyter-widgets/controls",
          "model_module_version": "1.5.0",
          "model_name": "HTMLModel",
          "state": {
            "_dom_classes": [],
            "_model_module": "@jupyter-widgets/controls",
            "_model_module_version": "1.5.0",
            "_model_name": "HTMLModel",
            "_view_count": null,
            "_view_module": "@jupyter-widgets/controls",
            "_view_module_version": "1.5.0",
            "_view_name": "HTMLView",
            "description": "",
            "description_tooltip": null,
            "layout": "IPY_MODEL_677a8b56b75f4708b4c0c451f0196c90",
            "placeholder": "​",
            "style": "IPY_MODEL_16249a5f67fb497ea1b5a9600249611b",
            "value": " 208k/208k [00:00&lt;00:00, 300kB/s]"
          }
        },
        "c7b4a9521aa94ee9b9eef12fd6096da1": {
          "model_module": "@jupyter-widgets/controls",
          "model_module_version": "1.5.0",
          "model_name": "HBoxModel",
          "state": {
            "_dom_classes": [],
            "_model_module": "@jupyter-widgets/controls",
            "_model_module_version": "1.5.0",
            "_model_name": "HBoxModel",
            "_view_count": null,
            "_view_module": "@jupyter-widgets/controls",
            "_view_module_version": "1.5.0",
            "_view_name": "HBoxView",
            "box_style": "",
            "children": [
              "IPY_MODEL_740260148dd64d39896b2e9e0b625355",
              "IPY_MODEL_94638bdc749449aab6bc8b5695910f48",
              "IPY_MODEL_c33d539aa06543c1a06bd515eb37aea2"
            ],
            "layout": "IPY_MODEL_92d06e0207bf4a2da666030932fb22cf"
          }
        },
        "cae5e7deafb44a488f772098c869fde3": {
          "model_module": "@jupyter-widgets/base",
          "model_module_version": "1.2.0",
          "model_name": "LayoutModel",
          "state": {
            "_model_module": "@jupyter-widgets/base",
            "_model_module_version": "1.2.0",
            "_model_name": "LayoutModel",
            "_view_count": null,
            "_view_module": "@jupyter-widgets/base",
            "_view_module_version": "1.2.0",
            "_view_name": "LayoutView",
            "align_content": null,
            "align_items": null,
            "align_self": null,
            "border": null,
            "bottom": null,
            "display": null,
            "flex": null,
            "flex_flow": null,
            "grid_area": null,
            "grid_auto_columns": null,
            "grid_auto_flow": null,
            "grid_auto_rows": null,
            "grid_column": null,
            "grid_gap": null,
            "grid_row": null,
            "grid_template_areas": null,
            "grid_template_columns": null,
            "grid_template_rows": null,
            "height": null,
            "justify_content": null,
            "justify_items": null,
            "left": null,
            "margin": null,
            "max_height": null,
            "max_width": null,
            "min_height": null,
            "min_width": null,
            "object_fit": null,
            "object_position": null,
            "order": null,
            "overflow": null,
            "overflow_x": null,
            "overflow_y": null,
            "padding": null,
            "right": null,
            "top": null,
            "visibility": null,
            "width": null
          }
        },
        "ced37242f1f74347a6ff66e9ea165bdc": {
          "model_module": "@jupyter-widgets/controls",
          "model_module_version": "1.5.0",
          "model_name": "DescriptionStyleModel",
          "state": {
            "_model_module": "@jupyter-widgets/controls",
            "_model_module_version": "1.5.0",
            "_model_name": "DescriptionStyleModel",
            "_view_count": null,
            "_view_module": "@jupyter-widgets/base",
            "_view_module_version": "1.2.0",
            "_view_name": "StyleView",
            "description_width": ""
          }
        },
        "d049288f11ee437b952ca16e8c0a9670": {
          "model_module": "@jupyter-widgets/controls",
          "model_module_version": "1.5.0",
          "model_name": "DescriptionStyleModel",
          "state": {
            "_model_module": "@jupyter-widgets/controls",
            "_model_module_version": "1.5.0",
            "_model_name": "DescriptionStyleModel",
            "_view_count": null,
            "_view_module": "@jupyter-widgets/base",
            "_view_module_version": "1.2.0",
            "_view_name": "StyleView",
            "description_width": ""
          }
        },
        "d60e5a0301064d50857dbfc85f691014": {
          "model_module": "@jupyter-widgets/base",
          "model_module_version": "1.2.0",
          "model_name": "LayoutModel",
          "state": {
            "_model_module": "@jupyter-widgets/base",
            "_model_module_version": "1.2.0",
            "_model_name": "LayoutModel",
            "_view_count": null,
            "_view_module": "@jupyter-widgets/base",
            "_view_module_version": "1.2.0",
            "_view_name": "LayoutView",
            "align_content": null,
            "align_items": null,
            "align_self": null,
            "border": null,
            "bottom": null,
            "display": null,
            "flex": null,
            "flex_flow": null,
            "grid_area": null,
            "grid_auto_columns": null,
            "grid_auto_flow": null,
            "grid_auto_rows": null,
            "grid_column": null,
            "grid_gap": null,
            "grid_row": null,
            "grid_template_areas": null,
            "grid_template_columns": null,
            "grid_template_rows": null,
            "height": null,
            "justify_content": null,
            "justify_items": null,
            "left": null,
            "margin": null,
            "max_height": null,
            "max_width": null,
            "min_height": null,
            "min_width": null,
            "object_fit": null,
            "object_position": null,
            "order": null,
            "overflow": null,
            "overflow_x": null,
            "overflow_y": null,
            "padding": null,
            "right": null,
            "top": null,
            "visibility": null,
            "width": null
          }
        },
        "da96936c40674aa48d0c1b08e0c903da": {
          "model_module": "@jupyter-widgets/controls",
          "model_module_version": "1.5.0",
          "model_name": "FloatProgressModel",
          "state": {
            "_dom_classes": [],
            "_model_module": "@jupyter-widgets/controls",
            "_model_module_version": "1.5.0",
            "_model_name": "FloatProgressModel",
            "_view_count": null,
            "_view_module": "@jupyter-widgets/controls",
            "_view_module_version": "1.5.0",
            "_view_name": "ProgressView",
            "bar_style": "success",
            "description": "",
            "description_tooltip": null,
            "layout": "IPY_MODEL_a05d0855cadd480bbc2029631a1a7f1d",
            "max": 29,
            "min": 0,
            "orientation": "horizontal",
            "style": "IPY_MODEL_83dd64e052ce4a3f85d05bef0e3b0802",
            "value": 29
          }
        },
        "f21ed56c72994aa48c8514a175bf8ed1": {
          "model_module": "@jupyter-widgets/base",
          "model_module_version": "1.2.0",
          "model_name": "LayoutModel",
          "state": {
            "_model_module": "@jupyter-widgets/base",
            "_model_module_version": "1.2.0",
            "_model_name": "LayoutModel",
            "_view_count": null,
            "_view_module": "@jupyter-widgets/base",
            "_view_module_version": "1.2.0",
            "_view_name": "LayoutView",
            "align_content": null,
            "align_items": null,
            "align_self": null,
            "border": null,
            "bottom": null,
            "display": null,
            "flex": null,
            "flex_flow": null,
            "grid_area": null,
            "grid_auto_columns": null,
            "grid_auto_flow": null,
            "grid_auto_rows": null,
            "grid_column": null,
            "grid_gap": null,
            "grid_row": null,
            "grid_template_areas": null,
            "grid_template_columns": null,
            "grid_template_rows": null,
            "height": null,
            "justify_content": null,
            "justify_items": null,
            "left": null,
            "margin": null,
            "max_height": null,
            "max_width": null,
            "min_height": null,
            "min_width": null,
            "object_fit": null,
            "object_position": null,
            "order": null,
            "overflow": null,
            "overflow_x": null,
            "overflow_y": null,
            "padding": null,
            "right": null,
            "top": null,
            "visibility": null,
            "width": null
          }
        },
        "fbec7d3e9d644686ba733a983544f48f": {
          "model_module": "@jupyter-widgets/controls",
          "model_module_version": "1.5.0",
          "model_name": "FloatProgressModel",
          "state": {
            "_dom_classes": [],
            "_model_module": "@jupyter-widgets/controls",
            "_model_module_version": "1.5.0",
            "_model_name": "FloatProgressModel",
            "_view_count": null,
            "_view_module": "@jupyter-widgets/controls",
            "_view_module_version": "1.5.0",
            "_view_name": "ProgressView",
            "bar_style": "success",
            "description": "",
            "description_tooltip": null,
            "layout": "IPY_MODEL_4e12044033be4fceab9f59836157cc8c",
            "max": 570,
            "min": 0,
            "orientation": "horizontal",
            "style": "IPY_MODEL_20208cdbe6634e4d81fbbf2f11eeec92",
            "value": 570
          }
        }
      }
    }
  },
  "nbformat": 4,
  "nbformat_minor": 0
}
