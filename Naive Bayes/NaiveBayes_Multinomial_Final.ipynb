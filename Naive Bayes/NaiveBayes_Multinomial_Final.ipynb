{
 "cells": [
  {
   "cell_type": "markdown",
   "id": "54cd017e",
   "metadata": {
    "slideshow": {
     "slide_type": "slide"
    }
   },
   "source": [
    "# Multinomial Naive Bayes Classification\n",
    "\n",
    "### Bayes Theorem:\n",
    "\n",
    "### $ P(C | A) = \\frac{P(A | C) * P(C)}{P(A)} $\n",
    "\n",
    "A classification model will be built by using the Bayes Theorem.\n",
    "Furthermore, the accuracy/error-rate and the F$_{1}$-Score: will be estimated to measure the model's performance.\n",
    "\n",
    "- Success rate (accuracy):  84.63%\n",
    "- Error rate: 15.37%\n",
    "- Precision: 84.61%\n",
    "- Recall: 84.60%\n",
    "- F$_{1}$-Score: 84.60%\n",
    "\n",
    "- Positive class:\n",
    "    - Precision: 0.85\n",
    "    - Recall: 0.85\n",
    "    - F$_{1}$-Score: 0.85\n",
    "    \n",
    "<br>\n",
    "\n",
    "- Negative class:\n",
    "    - Precision: 0.85\n",
    "    - Recall: 0.85\n",
    "    - F$_{1}$-Score: 0.85"
   ]
  },
  {
   "cell_type": "markdown",
   "id": "956985cd",
   "metadata": {},
   "source": [
    "## Reading dataset\n",
    "To get an understanding of the dataset, the first five lines will be displayed"
   ]
  },
  {
   "cell_type": "code",
   "execution_count": 21,
   "id": "7a3fbd90",
   "metadata": {},
   "outputs": [],
   "source": [
    "try:\n",
    "    from google.colab import drive\n",
    "    drive.mount('/content/drive/')\n",
    "    %cd 'drive/My Drive/Colab/'\n",
    "except ImportError as e:\n",
    "    pass"
   ]
  },
  {
   "cell_type": "code",
   "execution_count": 22,
   "id": "37baa970",
   "metadata": {},
   "outputs": [
    {
     "data": {
      "text/html": [
       "<div>\n",
       "<style scoped>\n",
       "    .dataframe tbody tr th:only-of-type {\n",
       "        vertical-align: middle;\n",
       "    }\n",
       "\n",
       "    .dataframe tbody tr th {\n",
       "        vertical-align: top;\n",
       "    }\n",
       "\n",
       "    .dataframe thead th {\n",
       "        text-align: right;\n",
       "    }\n",
       "</style>\n",
       "<table border=\"1\" class=\"dataframe\">\n",
       "  <thead>\n",
       "    <tr style=\"text-align: right;\">\n",
       "      <th></th>\n",
       "      <th>review</th>\n",
       "      <th>sentiment</th>\n",
       "    </tr>\n",
       "  </thead>\n",
       "  <tbody>\n",
       "    <tr>\n",
       "      <th>0</th>\n",
       "      <td>One of the other reviewers has mentioned that ...</td>\n",
       "      <td>positive</td>\n",
       "    </tr>\n",
       "    <tr>\n",
       "      <th>1</th>\n",
       "      <td>A wonderful little production. &lt;br /&gt;&lt;br /&gt;The...</td>\n",
       "      <td>positive</td>\n",
       "    </tr>\n",
       "    <tr>\n",
       "      <th>2</th>\n",
       "      <td>I thought this was a wonderful way to spend ti...</td>\n",
       "      <td>positive</td>\n",
       "    </tr>\n",
       "    <tr>\n",
       "      <th>3</th>\n",
       "      <td>Basically there's a family where a little boy ...</td>\n",
       "      <td>negative</td>\n",
       "    </tr>\n",
       "    <tr>\n",
       "      <th>4</th>\n",
       "      <td>Petter Mattei's \"Love in the Time of Money\" is...</td>\n",
       "      <td>positive</td>\n",
       "    </tr>\n",
       "  </tbody>\n",
       "</table>\n",
       "</div>"
      ],
      "text/plain": [
       "                                              review sentiment\n",
       "0  One of the other reviewers has mentioned that ...  positive\n",
       "1  A wonderful little production. <br /><br />The...  positive\n",
       "2  I thought this was a wonderful way to spend ti...  positive\n",
       "3  Basically there's a family where a little boy ...  negative\n",
       "4  Petter Mattei's \"Love in the Time of Money\" is...  positive"
      ]
     },
     "execution_count": 22,
     "metadata": {},
     "output_type": "execute_result"
    }
   ],
   "source": [
    "# Importing pandas\n",
    "import pandas as pd\n",
    "\n",
    "# Creating dataframe\n",
    "imdb_frame = pd.read_csv('IMDB Dataset.csv')\n",
    "\n",
    "# Displaying first records\n",
    "imdb_frame.head()"
   ]
  },
  {
   "cell_type": "markdown",
   "id": "630d1015",
   "metadata": {},
   "source": [
    "## Check for data imbalance\n",
    "Duplicated records will be removed in order to gain more unique reviews.\n",
    "Also the length of both positive and negative reviews will be calculated to check the balance of the data."
   ]
  },
  {
   "cell_type": "code",
   "execution_count": 23,
   "id": "09c3f1e3",
   "metadata": {},
   "outputs": [
    {
     "name": "stdout",
     "output_type": "stream",
     "text": [
      "Positive reviews: 24884\n",
      "Negative reviews: 24698\n"
     ]
    }
   ],
   "source": [
    "# Removing duplicates to gain only unique reviews\n",
    "imdb_frame = imdb_frame.drop_duplicates()\n",
    "print(\"Positive reviews: {}\".format(len(imdb_frame[imdb_frame['sentiment'] == 'positive'])))\n",
    "print(\"Negative reviews: {}\".format(len(imdb_frame[imdb_frame['sentiment'] == 'negative'])))"
   ]
  },
  {
   "cell_type": "markdown",
   "id": "f7aaaedb",
   "metadata": {},
   "source": [
    "## Balancing the data"
   ]
  },
  {
   "cell_type": "code",
   "execution_count": 24,
   "id": "b8f8dbd8",
   "metadata": {},
   "outputs": [
    {
     "name": "stdout",
     "output_type": "stream",
     "text": [
      "positive    24698\n",
      "negative    24698\n",
      "Name: sentiment, dtype: int64\n"
     ]
    }
   ],
   "source": [
    "imdb_positive = imdb_frame[imdb_frame[\"sentiment\"] == \"positive\"]\n",
    "imdb_negative = imdb_frame[imdb_frame[\"sentiment\"] == \"negative\"]\n",
    "# dropping difference between positive and negative examples.\n",
    "if len(imdb_positive) != len(imdb_negative):\n",
    "    imdb_positive = imdb_positive.iloc[186: , : ]\n",
    "    imdb_frame = pd.concat([imdb_positive,imdb_negative], ignore_index=True)\n",
    "    imdb_frame.sample(frac=1).reset_index(drop=True)\n",
    "# Result after balancing\n",
    "print(imdb_frame[\"sentiment\"].value_counts())"
   ]
  },
  {
   "cell_type": "markdown",
   "id": "7b670bf5",
   "metadata": {},
   "source": [
    "## Removing HTML Tags\n",
    "Since the Reviews were retrieved from a website, it is quite helpful to remove (almost) all HTML tags for better sentiment analysis and text processing by using regular expressions."
   ]
  },
  {
   "cell_type": "code",
   "execution_count": 25,
   "id": "82377767",
   "metadata": {},
   "outputs": [],
   "source": [
    "imdb_frame['review'] = imdb_frame['review'].str.replace(r'<[^<>]*>', '', regex=True)"
   ]
  },
  {
   "cell_type": "markdown",
   "id": "6b589a8d",
   "metadata": {},
   "source": [
    "## Stemming and encoding data / target\n",
    "As additional preprocessing steps, we are stemming each word to reduce it back to its root form."
   ]
  },
  {
   "cell_type": "code",
   "execution_count": 26,
   "id": "27f1e044",
   "metadata": {},
   "outputs": [],
   "source": [
    "import numpy as np\n",
    "from sklearn import preprocessing\n",
    "#from nltk.stem import PorterStemmer\n",
    "#from nltk.tokenize import word_tokenize\n",
    "#import nltk\n",
    "\n",
    "# Downloading punkt package\n",
    "# nltk.download('punkt')\n",
    "\n",
    "# Applying PorterStemmer to reduce word back to its root form \n",
    "#stemmer = PorterStemmer()\n",
    "#imdb_frame['review'] = imdb_frame['review'].apply(lambda x: ' '.join([stemmer.stem(word) for word in word_tokenize(x)]))\n",
    "\n",
    "# Creating training data\n",
    "imdb_data = imdb_frame.drop(columns=['sentiment'])['review'].values\n",
    "# Creating training target\n",
    "imdb_target = imdb_frame.drop(columns=['review'])\n",
    "\n",
    "# Initializing a label encoder for the training target\n",
    "label_encoder = preprocessing.LabelEncoder()\n",
    "\n",
    "# Encoding training target\n",
    "imdb_target = label_encoder.fit_transform(imdb_target.values.ravel())"
   ]
  },
  {
   "cell_type": "markdown",
   "id": "2ed74ae3",
   "metadata": {},
   "source": [
    "## Classifier and splitting data into train/test data"
   ]
  },
  {
   "cell_type": "code",
   "execution_count": 29,
   "id": "020698f1",
   "metadata": {},
   "outputs": [],
   "source": [
    "from sklearn.naive_bayes import MultinomialNB\n",
    "from sklearn.model_selection import train_test_split\n",
    "from imblearn.pipeline import Pipeline\n",
    "from mlxtend.preprocessing import DenseTransformer\n",
    "from sklearn.feature_extraction.text import TfidfVectorizer\n",
    "\n",
    "# Creating classifier and TfidVectorizer to implement stop word removal\n",
    "nb_estimator = MultinomialNB()\n",
    "transformer = TfidfVectorizer(use_idf = False, stop_words='english')\n",
    "\n",
    "# Splitting data\n",
    "train_data, test_data, train_target, test_target = train_test_split(imdb_data, imdb_target, test_size=0.20, random_state = 42)\n",
    "\n",
    "# Define pipeline\n",
    "pipeline = Pipeline(steps=[('transformer',transformer),('estimator',nb_estimator)])"
   ]
  },
  {
   "cell_type": "markdown",
   "id": "54f3d67a",
   "metadata": {},
   "source": [
    "## Hyperparameter Optimization"
   ]
  },
  {
   "cell_type": "code",
   "execution_count": 31,
   "id": "42aa0379",
   "metadata": {},
   "outputs": [
    {
     "name": "stdout",
     "output_type": "stream",
     "text": [
      "{'transformer__max_df': 0.09, 'transformer__min_df': 0.002}\n"
     ]
    }
   ],
   "source": [
    "from sklearn.model_selection import GridSearchCV\n",
    "from sklearn.model_selection import StratifiedKFold\n",
    "# Setting hyperparameters\n",
    "parameters = {\n",
    "    'transformer__min_df': list(np.arange(0.002,0.033,0.004)),\n",
    "    'transformer__max_df': list(np.arange(0.09,0.13,0.003))\n",
    "}\n",
    "\n",
    "# GridSearch\n",
    "cv = StratifiedKFold(n_splits=5, shuffle=True, random_state = 42)\n",
    "estimator = GridSearchCV(pipeline, parameters, cv=cv, scoring='accuracy', n_jobs=-1)\n",
    "estimator.fit(train_data, train_target)\n",
    "# Get best params\n",
    "print(estimator.best_params_)"
   ]
  },
  {
   "cell_type": "markdown",
   "id": "fc574c0d",
   "metadata": {},
   "source": [
    "## Define function to plot confusion matrix\n",
    "\n",
    "Source: https://www.uni-mannheim.de/media/Einrichtungen/dws/Files_Teaching/Data_Mining/HWS2022/exercise/03_Classification.zip (File: DM_Exercise_3_Python_Classification_Intro_KNN_Centroid.ipynb)"
   ]
  },
  {
   "cell_type": "code",
   "execution_count": 32,
   "id": "00519620",
   "metadata": {},
   "outputs": [],
   "source": [
    "import itertools\n",
    "import matplotlib.pyplot as plt\n",
    "def plot_confusion_matrix(cm, classes,\n",
    "                          normalize=False,\n",
    "                          title='Confusion matrix',\n",
    "                          cmap=plt.cm.Blues):\n",
    "    \"\"\"\n",
    "    This function prints and plots the confusion matrix.\n",
    "    Normalization can be applied by setting `normalize=True`.\n",
    "    \"\"\"\n",
    "    if normalize:\n",
    "        cm = cm.astype('float') / cm.sum(axis=1)[:, np.newaxis]\n",
    "\n",
    "    plt.figure(figsize=(7,7))\n",
    "    plt.imshow(cm, interpolation='nearest', cmap=cmap)\n",
    "    plt.title(title)\n",
    "    plt.colorbar()\n",
    "    tick_marks = np.arange(len(classes))\n",
    "    plt.xticks(tick_marks, classes, rotation=45)\n",
    "    plt.yticks(tick_marks, classes)\n",
    "\n",
    "    fmt = '.2f' if normalize else 'd'\n",
    "    thresh = cm.max() / 2.\n",
    "    for i, j in itertools.product(range(cm.shape[0]), range(cm.shape[1])):\n",
    "        plt.text(j, i, format(cm[i, j], fmt),\n",
    "                 horizontalalignment=\"center\",\n",
    "                 color=\"white\" if cm[i, j] > thresh else \"black\")\n",
    "\n",
    "    plt.ylabel('True label')\n",
    "    plt.xlabel('Predicted label')\n",
    "    plt.tight_layout()"
   ]
  },
  {
   "cell_type": "markdown",
   "id": "5a152453",
   "metadata": {},
   "source": [
    "## Error analysis"
   ]
  },
  {
   "cell_type": "code",
   "execution_count": 33,
   "id": "b1739abb",
   "metadata": {},
   "outputs": [
    {
     "data": {
      "image/png": "[encoded data removed]",
      "text/plain": [
       "<Figure size 504x504 with 2 Axes>"
      ]
     },
     "metadata": {
      "needs_background": "light"
     },
     "output_type": "display_data"
    },
    {
     "name": "stdout",
     "output_type": "stream",
     "text": [
      "              precision    recall  f1-score   support\n",
      "\n",
      "    negative       0.85      0.85      0.85      4946\n",
      "    positive       0.85      0.85      0.85      4934\n",
      "\n",
      "    accuracy                           0.85      9880\n",
      "   macro avg       0.85      0.85      0.85      9880\n",
      "weighted avg       0.85      0.85      0.85      9880\n",
      "\n",
      "Accuracy: 84.62550607287449%\n",
      "Error rate: 15.37449392712551%\n",
      "Precision: 0.846138252584634%\n",
      "Recall: 0.8459667612484799%\n",
      "F1-Score: 0.8460524982264113%\n"
     ]
    }
   ],
   "source": [
    "from sklearn.model_selection import cross_val_predict\n",
    "from sklearn.metrics import classification_report, confusion_matrix, accuracy_score, precision_score, recall_score, f1_score\n",
    "\n",
    "# Cross-validation-prediction for error analysis\n",
    "prediction = cross_val_predict(estimator, test_data, test_target, cv=cv)\n",
    "# Creating confusion matrix\n",
    "cm = confusion_matrix(test_target, prediction)\n",
    "# Preparing plot for confusion matrix\n",
    "plot_confusion_matrix(cm, classes = label_encoder.classes_)\n",
    "plt.show()\n",
    "\n",
    "# Printing classification report et. al. to show accuracy, precision/recall and F1-Score\n",
    "print(classification_report(test_target, prediction, target_names=label_encoder.classes_))\n",
    "\n",
    "accuracy = accuracy_score(test_target, prediction)\n",
    "precision = precision_score(test_target, prediction)\n",
    "recall = recall_score(test_target, prediction)\n",
    "f1_score = f1_score(test_target,prediction)\n",
    "\n",
    "print(f\"Accuracy: {accuracy * 100.0}%\")\n",
    "print(f\"Error rate: {(1 - accuracy) * 100.0}%\")\n",
    "print(f\"Precision: {precision}%\")\n",
    "print(f\"Recall: {recall}%\")\n",
    "print(f\"F1-Score: {f1_score}%\")"
   ]
  },
  {
   "cell_type": "code",
   "execution_count": null,
   "id": "3124ea4f",
   "metadata": {},
   "outputs": [],
   "source": []
  }
 ],
 "metadata": {
  "celltoolbar": "Slideshow",
  "kernelspec": {
   "display_name": "Python 3 (ipykernel)",
   "language": "python",
   "name": "python3"
  },
  "language_info": {
   "codemirror_mode": {
    "name": "ipython",
    "version": 3
   },
   "file_extension": ".py",
   "mimetype": "text/x-python",
   "name": "python",
   "nbconvert_exporter": "python",
   "pygments_lexer": "ipython3",
   "version": "3.9.12"
  }
 },
 "nbformat": 4,
 "nbformat_minor": 5
}
